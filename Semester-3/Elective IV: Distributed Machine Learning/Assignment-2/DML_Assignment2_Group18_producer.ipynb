{
 "cells": [
  {
   "cell_type": "markdown",
   "metadata": {},
   "source": [
    "# Group No: 18\n",
    "\n",
    "## Group Members Names:\n",
    "\n",
    " 1. PEYALA SAMARASIMHA REDDY - 2023AA05072\n",
    " 2. PEGALLAPATI SAI MAHARSHI - 2023AA05924\n",
    " 3. ANIRUDDHA DILIP MADURWAR - 2023AA05982\n",
    " 4. TUSHAR DEEP - 2023AA05885"
   ]
  },
  {
   "cell_type": "markdown",
   "metadata": {},
   "source": [
    "## Assignment - 2\n",
    "\n",
    "Real-Time Prediction with Apache Kafka and Neural Networks"
   ]
  },
  {
   "cell_type": "markdown",
   "metadata": {},
   "source": [
    "## Producer File"
   ]
  },
  {
   "cell_type": "markdown",
   "metadata": {},
   "source": [
    "- Here, we have setup the Apache Kafka locally, we started the Kafka and Zookeeper. Then we will run this producer and consumer via jupyterbooks. \n",
    "- This producer.ipynb loads the csv file for test data and streams, send to the consumer for predictions.\n",
    "- For simplicity we only sending the last 100 rows of the dataset."
   ]
  },
  {
   "cell_type": "code",
   "execution_count": 12,
   "metadata": {},
   "outputs": [
    {
     "name": "stderr",
     "output_type": "stream",
     "text": [
      "2025-03-16 18:07:01,604 - INFO - Loading data from california_housing.csv...\n",
      "2025-03-16 18:07:01,618 - INFO - Data loaded successfully!\n",
      "2025-03-16 18:07:01,619 - INFO - Reading last 100 rows of the dataset as test set...\n",
      "2025-03-16 18:07:01,620 - INFO - <BrokerConnection client_id=kafka-python-producer-12, node_id=bootstrap-0 host=localhost:9092 <connecting> [IPv4 ('127.0.0.1', 9092)]>: connecting to localhost:9092 [('127.0.0.1', 9092) IPv4]\n",
      "2025-03-16 18:07:01,621 - INFO - Broker version identified as 2.6\n",
      "2025-03-16 18:07:01,622 - INFO - <BrokerConnection client_id=kafka-python-producer-12, node_id=bootstrap-0 host=localhost:9092 <checking_api_versions_recv> [IPv4 ('127.0.0.1', 9092)]>: Connection complete.\n",
      "2025-03-16 18:07:01,623 - INFO - \n",
      "Starting Data Streaming to Kafka...\n",
      "\n",
      "2025-03-16 18:07:01,625 - INFO - Sent Message ID: 0, Timestamp: 2025-03-16 18:07:01, Features: [3.1908, 16.0, 4.386792452830188, 0.981132075471698, 1386.0, 2.179245283018868, 38.54, -121.72], Actual Price: 1.9430\n",
      "2025-03-16 18:07:01,625 - INFO - <BrokerConnection client_id=kafka-python-producer-12, node_id=0 host=hitloop:9092 <connecting> [IPv4 ('127.0.1.1', 9092)]>: connecting to hitloop:9092 [('127.0.1.1', 9092) IPv4]\n",
      "2025-03-16 18:07:01,626 - INFO - <BrokerConnection client_id=kafka-python-producer-12, node_id=0 host=hitloop:9092 <checking_api_versions_send> [IPv4 ('127.0.1.1', 9092)]>: Connection complete.\n",
      "2025-03-16 18:07:01,626 - INFO - <BrokerConnection client_id=kafka-python-producer-12, node_id=bootstrap-0 host=localhost:9092 <connected> [IPv4 ('127.0.0.1', 9092)]>: Closing connection. \n"
     ]
    },
    {
     "name": "stdout",
     "output_type": "stream",
     "text": [
      "Sent Message 0:\n",
      "   - MedInc: 3.1908\n",
      "   - HouseAge: 16.0000\n",
      "   - AveRooms: 4.3868\n",
      "   - AveBedrms: 0.9811\n",
      "   - Population: 1386.0000\n",
      "   - AveOccup: 2.1792\n",
      "   - Latitude: 38.5400\n",
      "   - Longitude: -121.7200\n",
      "   - Actual Price (Target): 1.9430\n",
      "\n"
     ]
    },
    {
     "name": "stderr",
     "output_type": "stream",
     "text": [
      "2025-03-16 18:07:02,627 - INFO - Sent Message ID: 1, Timestamp: 2025-03-16 18:07:02, Features: [4.6225, 13.0, 6.115695067264574, 1.0385650224215246, 2828.0, 2.536322869955157, 38.54, -121.7], Actual Price: 2.2650\n"
     ]
    },
    {
     "name": "stdout",
     "output_type": "stream",
     "text": [
      "Sent Message 1:\n",
      "   - MedInc: 4.6225\n",
      "   - HouseAge: 13.0000\n",
      "   - AveRooms: 6.1157\n",
      "   - AveBedrms: 1.0386\n",
      "   - Population: 2828.0000\n",
      "   - AveOccup: 2.5363\n",
      "   - Latitude: 38.5400\n",
      "   - Longitude: -121.7000\n",
      "   - Actual Price (Target): 2.2650\n",
      "\n"
     ]
    },
    {
     "name": "stderr",
     "output_type": "stream",
     "text": [
      "2025-03-16 18:07:03,632 - INFO - Sent Message ID: 2, Timestamp: 2025-03-16 18:07:03, Features: [4.7308, 33.0, 6.575596816976128, 1.013262599469496, 979.0, 2.5968169761273208, 38.55, -121.75], Actual Price: 2.3620\n"
     ]
    },
    {
     "name": "stdout",
     "output_type": "stream",
     "text": [
      "Sent Message 2:\n",
      "   - MedInc: 4.7308\n",
      "   - HouseAge: 33.0000\n",
      "   - AveRooms: 6.5756\n",
      "   - AveBedrms: 1.0133\n",
      "   - Population: 979.0000\n",
      "   - AveOccup: 2.5968\n",
      "   - Latitude: 38.5500\n",
      "   - Longitude: -121.7500\n",
      "   - Actual Price (Target): 2.3620\n",
      "\n"
     ]
    },
    {
     "name": "stderr",
     "output_type": "stream",
     "text": [
      "2025-03-16 18:07:04,636 - INFO - Sent Message ID: 3, Timestamp: 2025-03-16 18:07:04, Features: [1.7311, 33.0, 3.882852292020373, 1.0299943406904355, 3717.0, 2.103565365025467, 38.55, -121.74], Actual Price: 1.8260\n"
     ]
    },
    {
     "name": "stdout",
     "output_type": "stream",
     "text": [
      "Sent Message 3:\n",
      "   - MedInc: 1.7311\n",
      "   - HouseAge: 33.0000\n",
      "   - AveRooms: 3.8829\n",
      "   - AveBedrms: 1.0300\n",
      "   - Population: 3717.0000\n",
      "   - AveOccup: 2.1036\n",
      "   - Latitude: 38.5500\n",
      "   - Longitude: -121.7400\n",
      "   - Actual Price (Target): 1.8260\n",
      "\n"
     ]
    },
    {
     "name": "stderr",
     "output_type": "stream",
     "text": [
      "2025-03-16 18:07:05,642 - INFO - Sent Message ID: 4, Timestamp: 2025-03-16 18:07:05, Features: [2.065, 23.0, 4.80349344978166, 1.013646288209607, 6330.0, 3.455240174672489, 38.55, -121.76], Actual Price: 2.1940\n"
     ]
    },
    {
     "name": "stdout",
     "output_type": "stream",
     "text": [
      "Sent Message 4:\n",
      "   - MedInc: 2.0650\n",
      "   - HouseAge: 23.0000\n",
      "   - AveRooms: 4.8035\n",
      "   - AveBedrms: 1.0136\n",
      "   - Population: 6330.0000\n",
      "   - AveOccup: 3.4552\n",
      "   - Latitude: 38.5500\n",
      "   - Longitude: -121.7600\n",
      "   - Actual Price (Target): 2.1940\n",
      "\n"
     ]
    },
    {
     "name": "stderr",
     "output_type": "stream",
     "text": [
      "2025-03-16 18:07:06,648 - INFO - Sent Message ID: 5, Timestamp: 2025-03-16 18:07:06, Features: [3.7452, 26.0, 5.11395101171459, 1.0117145899893505, 2199.0, 2.34185303514377, 38.55, -121.75], Actual Price: 2.2770\n"
     ]
    },
    {
     "name": "stdout",
     "output_type": "stream",
     "text": [
      "Sent Message 5:\n",
      "   - MedInc: 3.7452\n",
      "   - HouseAge: 26.0000\n",
      "   - AveRooms: 5.1140\n",
      "   - AveBedrms: 1.0117\n",
      "   - Population: 2199.0000\n",
      "   - AveOccup: 2.3419\n",
      "   - Latitude: 38.5500\n",
      "   - Longitude: -121.7500\n",
      "   - Actual Price (Target): 2.2770\n",
      "\n"
     ]
    },
    {
     "name": "stderr",
     "output_type": "stream",
     "text": [
      "2025-03-16 18:07:07,654 - INFO - Sent Message ID: 6, Timestamp: 2025-03-16 18:07:07, Features: [3.4559, 47.0, 6.148550724637682, 1.1521739130434785, 775.0, 2.807971014492753, 38.69, -121.77], Actual Price: 1.2310\n"
     ]
    },
    {
     "name": "stdout",
     "output_type": "stream",
     "text": [
      "Sent Message 6:\n",
      "   - MedInc: 3.4559\n",
      "   - HouseAge: 47.0000\n",
      "   - AveRooms: 6.1486\n",
      "   - AveBedrms: 1.1522\n",
      "   - Population: 775.0000\n",
      "   - AveOccup: 2.8080\n",
      "   - Latitude: 38.6900\n",
      "   - Longitude: -121.7700\n",
      "   - Actual Price (Target): 1.2310\n",
      "\n"
     ]
    },
    {
     "name": "stderr",
     "output_type": "stream",
     "text": [
      "2025-03-16 18:07:08,658 - INFO - Sent Message ID: 7, Timestamp: 2025-03-16 18:07:08, Features: [2.1927, 43.0, 4.32994923857868, 1.011844331641286, 1820.0, 3.0795262267343486, 38.68, -121.77], Actual Price: 1.0790\n"
     ]
    },
    {
     "name": "stdout",
     "output_type": "stream",
     "text": [
      "Sent Message 7:\n",
      "   - MedInc: 2.1927\n",
      "   - HouseAge: 43.0000\n",
      "   - AveRooms: 4.3299\n",
      "   - AveBedrms: 1.0118\n",
      "   - Population: 1820.0000\n",
      "   - AveOccup: 3.0795\n",
      "   - Latitude: 38.6800\n",
      "   - Longitude: -121.7700\n",
      "   - Actual Price (Target): 1.0790\n",
      "\n"
     ]
    },
    {
     "name": "stderr",
     "output_type": "stream",
     "text": [
      "2025-03-16 18:07:09,662 - INFO - Sent Message ID: 8, Timestamp: 2025-03-16 18:07:09, Features: [1.3942, 38.0, 3.566137566137566, 0.9417989417989416, 701.0, 3.708994708994709, 38.68, -121.76], Actual Price: 0.6940\n"
     ]
    },
    {
     "name": "stdout",
     "output_type": "stream",
     "text": [
      "Sent Message 8:\n",
      "   - MedInc: 1.3942\n",
      "   - HouseAge: 38.0000\n",
      "   - AveRooms: 3.5661\n",
      "   - AveBedrms: 0.9418\n",
      "   - Population: 701.0000\n",
      "   - AveOccup: 3.7090\n",
      "   - Latitude: 38.6800\n",
      "   - Longitude: -121.7600\n",
      "   - Actual Price (Target): 0.6940\n",
      "\n"
     ]
    },
    {
     "name": "stderr",
     "output_type": "stream",
     "text": [
      "2025-03-16 18:07:10,666 - INFO - Sent Message ID: 9, Timestamp: 2025-03-16 18:07:10, Features: [3.7477, 8.0, 5.227138643067847, 1.019174041297935, 2118.0, 3.1238938053097347, 38.69, -121.8], Actual Price: 1.2220\n"
     ]
    },
    {
     "name": "stdout",
     "output_type": "stream",
     "text": [
      "Sent Message 9:\n",
      "   - MedInc: 3.7477\n",
      "   - HouseAge: 8.0000\n",
      "   - AveRooms: 5.2271\n",
      "   - AveBedrms: 1.0192\n",
      "   - Population: 2118.0000\n",
      "   - AveOccup: 3.1239\n",
      "   - Latitude: 38.6900\n",
      "   - Longitude: -121.8000\n",
      "   - Actual Price (Target): 1.2220\n",
      "\n"
     ]
    },
    {
     "name": "stderr",
     "output_type": "stream",
     "text": [
      "2025-03-16 18:07:11,672 - INFO - Sent Message ID: 10, Timestamp: 2025-03-16 18:07:11, Features: [2.8864, 23.0, 5.60702875399361, 1.02555910543131, 1061.0, 3.389776357827476, 38.69, -121.79], Actual Price: 1.0310\n"
     ]
    },
    {
     "name": "stdout",
     "output_type": "stream",
     "text": [
      "Sent Message 10:\n",
      "   - MedInc: 2.8864\n",
      "   - HouseAge: 23.0000\n",
      "   - AveRooms: 5.6070\n",
      "   - AveBedrms: 1.0256\n",
      "   - Population: 1061.0000\n",
      "   - AveOccup: 3.3898\n",
      "   - Latitude: 38.6900\n",
      "   - Longitude: -121.7900\n",
      "   - Actual Price (Target): 1.0310\n",
      "\n"
     ]
    },
    {
     "name": "stderr",
     "output_type": "stream",
     "text": [
      "2025-03-16 18:07:12,677 - INFO - Sent Message ID: 11, Timestamp: 2025-03-16 18:07:12, Features: [2.6774, 31.0, 5.00392927308448, 1.051080550098232, 1579.0, 3.102161100196464, 38.69, -121.78], Actual Price: 0.9580\n"
     ]
    },
    {
     "name": "stdout",
     "output_type": "stream",
     "text": [
      "Sent Message 11:\n",
      "   - MedInc: 2.6774\n",
      "   - HouseAge: 31.0000\n",
      "   - AveRooms: 5.0039\n",
      "   - AveBedrms: 1.0511\n",
      "   - Population: 1579.0000\n",
      "   - AveOccup: 3.1022\n",
      "   - Latitude: 38.6900\n",
      "   - Longitude: -121.7800\n",
      "   - Actual Price (Target): 0.9580\n",
      "\n"
     ]
    },
    {
     "name": "stderr",
     "output_type": "stream",
     "text": [
      "2025-03-16 18:07:13,682 - INFO - Sent Message ID: 12, Timestamp: 2025-03-16 18:07:13, Features: [3.4331, 11.0, 5.1552878179384205, 1.1941097724230254, 1847.0, 2.4725568942436413, 38.68, -121.8], Actual Price: 1.2060\n"
     ]
    },
    {
     "name": "stdout",
     "output_type": "stream",
     "text": [
      "Sent Message 12:\n",
      "   - MedInc: 3.4331\n",
      "   - HouseAge: 11.0000\n",
      "   - AveRooms: 5.1553\n",
      "   - AveBedrms: 1.1941\n",
      "   - Population: 1847.0000\n",
      "   - AveOccup: 2.4726\n",
      "   - Latitude: 38.6800\n",
      "   - Longitude: -121.8000\n",
      "   - Actual Price (Target): 1.2060\n",
      "\n"
     ]
    },
    {
     "name": "stderr",
     "output_type": "stream",
     "text": [
      "2025-03-16 18:07:14,686 - INFO - Sent Message ID: 13, Timestamp: 2025-03-16 18:07:14, Features: [2.8068, 24.0, 4.391203703703703, 0.9814814814814816, 2225.0, 2.5752314814814814, 38.68, -121.79], Actual Price: 0.9530\n"
     ]
    },
    {
     "name": "stdout",
     "output_type": "stream",
     "text": [
      "Sent Message 13:\n",
      "   - MedInc: 2.8068\n",
      "   - HouseAge: 24.0000\n",
      "   - AveRooms: 4.3912\n",
      "   - AveBedrms: 0.9815\n",
      "   - Population: 2225.0000\n",
      "   - AveOccup: 2.5752\n",
      "   - Latitude: 38.6800\n",
      "   - Longitude: -121.7900\n",
      "   - Actual Price (Target): 0.9530\n",
      "\n"
     ]
    },
    {
     "name": "stderr",
     "output_type": "stream",
     "text": [
      "2025-03-16 18:07:15,692 - INFO - Sent Message ID: 14, Timestamp: 2025-03-16 18:07:15, Features: [1.9787, 39.0, 4.398119122257054, 1.037617554858934, 1659.0, 2.6003134796238245, 38.68, -121.78], Actual Price: 0.9780\n"
     ]
    },
    {
     "name": "stdout",
     "output_type": "stream",
     "text": [
      "Sent Message 14:\n",
      "   - MedInc: 1.9787\n",
      "   - HouseAge: 39.0000\n",
      "   - AveRooms: 4.3981\n",
      "   - AveBedrms: 1.0376\n",
      "   - Population: 1659.0000\n",
      "   - AveOccup: 2.6003\n",
      "   - Latitude: 38.6800\n",
      "   - Longitude: -121.7800\n",
      "   - Actual Price (Target): 0.9780\n",
      "\n"
     ]
    },
    {
     "name": "stderr",
     "output_type": "stream",
     "text": [
      "2025-03-16 18:07:16,696 - INFO - Sent Message ID: 15, Timestamp: 2025-03-16 18:07:16, Features: [3.1875, 11.0, 5.286178861788618, 1.0130081300813008, 1700.0, 2.7642276422764227, 38.67, -121.8], Actual Price: 1.7200\n"
     ]
    },
    {
     "name": "stdout",
     "output_type": "stream",
     "text": [
      "Sent Message 15:\n",
      "   - MedInc: 3.1875\n",
      "   - HouseAge: 11.0000\n",
      "   - AveRooms: 5.2862\n",
      "   - AveBedrms: 1.0130\n",
      "   - Population: 1700.0000\n",
      "   - AveOccup: 2.7642\n",
      "   - Latitude: 38.6700\n",
      "   - Longitude: -121.8000\n",
      "   - Actual Price (Target): 1.7200\n",
      "\n"
     ]
    },
    {
     "name": "stderr",
     "output_type": "stream",
     "text": [
      "2025-03-16 18:07:17,700 - INFO - Sent Message ID: 16, Timestamp: 2025-03-16 18:07:17, Features: [1.951, 17.0, 3.83845126835781, 1.081441922563418, 1876.0, 2.504672897196261, 38.67, -121.79], Actual Price: 1.5250\n"
     ]
    },
    {
     "name": "stdout",
     "output_type": "stream",
     "text": [
      "Sent Message 16:\n",
      "   - MedInc: 1.9510\n",
      "   - HouseAge: 17.0000\n",
      "   - AveRooms: 3.8385\n",
      "   - AveBedrms: 1.0814\n",
      "   - Population: 1876.0000\n",
      "   - AveOccup: 2.5047\n",
      "   - Latitude: 38.6700\n",
      "   - Longitude: -121.7900\n",
      "   - Actual Price (Target): 1.5250\n",
      "\n"
     ]
    },
    {
     "name": "stderr",
     "output_type": "stream",
     "text": [
      "2025-03-16 18:07:18,705 - INFO - Sent Message ID: 17, Timestamp: 2025-03-16 18:07:18, Features: [2.3468, 43.0, 4.6095471236230114, 1.03671970624235, 1855.0, 2.270501835985312, 38.68, -121.78], Actual Price: 1.1940\n"
     ]
    },
    {
     "name": "stdout",
     "output_type": "stream",
     "text": [
      "Sent Message 17:\n",
      "   - MedInc: 2.3468\n",
      "   - HouseAge: 43.0000\n",
      "   - AveRooms: 4.6095\n",
      "   - AveBedrms: 1.0367\n",
      "   - Population: 1855.0000\n",
      "   - AveOccup: 2.2705\n",
      "   - Latitude: 38.6800\n",
      "   - Longitude: -121.7800\n",
      "   - Actual Price (Target): 1.1940\n",
      "\n"
     ]
    },
    {
     "name": "stderr",
     "output_type": "stream",
     "text": [
      "2025-03-16 18:07:19,709 - INFO - Sent Message ID: 18, Timestamp: 2025-03-16 18:07:19, Features: [4.5526, 10.0, 5.518518518518518, 1.0052910052910051, 1073.0, 2.8386243386243386, 38.67, -121.8], Actual Price: 1.5440\n"
     ]
    },
    {
     "name": "stdout",
     "output_type": "stream",
     "text": [
      "Sent Message 18:\n",
      "   - MedInc: 4.5526\n",
      "   - HouseAge: 10.0000\n",
      "   - AveRooms: 5.5185\n",
      "   - AveBedrms: 1.0053\n",
      "   - Population: 1073.0000\n",
      "   - AveOccup: 2.8386\n",
      "   - Latitude: 38.6700\n",
      "   - Longitude: -121.8000\n",
      "   - Actual Price (Target): 1.5440\n",
      "\n"
     ]
    },
    {
     "name": "stderr",
     "output_type": "stream",
     "text": [
      "2025-03-16 18:07:20,715 - INFO - Sent Message ID: 19, Timestamp: 2025-03-16 18:07:20, Features: [4.7222, 30.0, 6.424691358024691, 0.9901234567901236, 981.0, 2.422222222222222, 38.67, -121.79], Actual Price: 1.6720\n"
     ]
    },
    {
     "name": "stdout",
     "output_type": "stream",
     "text": [
      "Sent Message 19:\n",
      "   - MedInc: 4.7222\n",
      "   - HouseAge: 30.0000\n",
      "   - AveRooms: 6.4247\n",
      "   - AveBedrms: 0.9901\n",
      "   - Population: 981.0000\n",
      "   - AveOccup: 2.4222\n",
      "   - Latitude: 38.6700\n",
      "   - Longitude: -121.7900\n",
      "   - Actual Price (Target): 1.6720\n",
      "\n"
     ]
    },
    {
     "name": "stderr",
     "output_type": "stream",
     "text": [
      "2025-03-16 18:07:21,720 - INFO - Sent Message ID: 20, Timestamp: 2025-03-16 18:07:21, Features: [4.0556, 38.0, 6.408695652173913, 1.0391304347826087, 1123.0, 2.4413043478260867, 38.67, -121.78], Actual Price: 1.4690\n"
     ]
    },
    {
     "name": "stdout",
     "output_type": "stream",
     "text": [
      "Sent Message 20:\n",
      "   - MedInc: 4.0556\n",
      "   - HouseAge: 38.0000\n",
      "   - AveRooms: 6.4087\n",
      "   - AveBedrms: 1.0391\n",
      "   - Population: 1123.0000\n",
      "   - AveOccup: 2.4413\n",
      "   - Latitude: 38.6700\n",
      "   - Longitude: -121.7800\n",
      "   - Actual Price (Target): 1.4690\n",
      "\n"
     ]
    },
    {
     "name": "stderr",
     "output_type": "stream",
     "text": [
      "2025-03-16 18:07:22,725 - INFO - Sent Message ID: 21, Timestamp: 2025-03-16 18:07:22, Features: [2.2794, 42.0, 5.0, 0.9700374531835206, 1548.0, 2.898876404494382, 38.67, -121.77], Actual Price: 1.0890\n"
     ]
    },
    {
     "name": "stdout",
     "output_type": "stream",
     "text": [
      "Sent Message 21:\n",
      "   - MedInc: 2.2794\n",
      "   - HouseAge: 42.0000\n",
      "   - AveRooms: 5.0000\n",
      "   - AveBedrms: 0.9700\n",
      "   - Population: 1548.0000\n",
      "   - AveOccup: 2.8989\n",
      "   - Latitude: 38.6700\n",
      "   - Longitude: -121.7700\n",
      "   - Actual Price (Target): 1.0890\n",
      "\n"
     ]
    },
    {
     "name": "stderr",
     "output_type": "stream",
     "text": [
      "2025-03-16 18:07:23,729 - INFO - Sent Message ID: 22, Timestamp: 2025-03-16 18:07:23, Features: [2.8351, 45.0, 4.780392156862745, 0.9058823529411764, 1415.0, 2.7745098039215685, 38.67, -121.77], Actual Price: 1.0720\n"
     ]
    },
    {
     "name": "stdout",
     "output_type": "stream",
     "text": [
      "Sent Message 22:\n",
      "   - MedInc: 2.8351\n",
      "   - HouseAge: 45.0000\n",
      "   - AveRooms: 4.7804\n",
      "   - AveBedrms: 0.9059\n",
      "   - Population: 1415.0000\n",
      "   - AveOccup: 2.7745\n",
      "   - Latitude: 38.6700\n",
      "   - Longitude: -121.7700\n",
      "   - Actual Price (Target): 1.0720\n",
      "\n"
     ]
    },
    {
     "name": "stderr",
     "output_type": "stream",
     "text": [
      "2025-03-16 18:07:24,735 - INFO - Sent Message ID: 23, Timestamp: 2025-03-16 18:07:24, Features: [3.125, 9.0, 5.148006785411366, 1.1195928753180662, 6837.0, 2.899491094147583, 38.67, -121.75], Actual Price: 1.3250\n"
     ]
    },
    {
     "name": "stdout",
     "output_type": "stream",
     "text": [
      "Sent Message 23:\n",
      "   - MedInc: 3.1250\n",
      "   - HouseAge: 9.0000\n",
      "   - AveRooms: 5.1480\n",
      "   - AveBedrms: 1.1196\n",
      "   - Population: 6837.0000\n",
      "   - AveOccup: 2.8995\n",
      "   - Latitude: 38.6700\n",
      "   - Longitude: -121.7500\n",
      "   - Actual Price (Target): 1.3250\n",
      "\n"
     ]
    },
    {
     "name": "stderr",
     "output_type": "stream",
     "text": [
      "2025-03-16 18:07:25,740 - INFO - Sent Message ID: 24, Timestamp: 2025-03-16 18:07:25, Features: [2.8882, 32.0, 4.6103896103896105, 1.0064935064935066, 550.0, 3.571428571428572, 38.72, -121.71], Actual Price: 1.5140\n"
     ]
    },
    {
     "name": "stdout",
     "output_type": "stream",
     "text": [
      "Sent Message 24:\n",
      "   - MedInc: 2.8882\n",
      "   - HouseAge: 32.0000\n",
      "   - AveRooms: 4.6104\n",
      "   - AveBedrms: 1.0065\n",
      "   - Population: 550.0000\n",
      "   - AveOccup: 3.5714\n",
      "   - Latitude: 38.7200\n",
      "   - Longitude: -121.7100\n",
      "   - Actual Price (Target): 1.5140\n",
      "\n"
     ]
    },
    {
     "name": "stderr",
     "output_type": "stream",
     "text": [
      "2025-03-16 18:07:26,745 - INFO - Sent Message ID: 25, Timestamp: 2025-03-16 18:07:26, Features: [2.4167, 22.0, 5.93886462882096, 1.2314410480349345, 808.0, 3.5283842794759823, 38.65, -121.7], Actual Price: 2.2500\n"
     ]
    },
    {
     "name": "stdout",
     "output_type": "stream",
     "text": [
      "Sent Message 25:\n",
      "   - MedInc: 2.4167\n",
      "   - HouseAge: 22.0000\n",
      "   - AveRooms: 5.9389\n",
      "   - AveBedrms: 1.2314\n",
      "   - Population: 808.0000\n",
      "   - AveOccup: 3.5284\n",
      "   - Latitude: 38.6500\n",
      "   - Longitude: -121.7000\n",
      "   - Actual Price (Target): 2.2500\n",
      "\n"
     ]
    },
    {
     "name": "stderr",
     "output_type": "stream",
     "text": [
      "2025-03-16 18:07:27,749 - INFO - Sent Message ID: 26, Timestamp: 2025-03-16 18:07:27, Features: [4.3487, 29.0, 5.930711610486892, 1.0262172284644195, 1554.0, 2.9101123595505616, 38.65, -121.84], Actual Price: 2.0070\n"
     ]
    },
    {
     "name": "stdout",
     "output_type": "stream",
     "text": [
      "Sent Message 26:\n",
      "   - MedInc: 4.3487\n",
      "   - HouseAge: 29.0000\n",
      "   - AveRooms: 5.9307\n",
      "   - AveBedrms: 1.0262\n",
      "   - Population: 1554.0000\n",
      "   - AveOccup: 2.9101\n",
      "   - Latitude: 38.6500\n",
      "   - Longitude: -121.8400\n",
      "   - Actual Price (Target): 2.0070\n",
      "\n"
     ]
    },
    {
     "name": "stderr",
     "output_type": "stream",
     "text": [
      "2025-03-16 18:07:28,753 - INFO - Sent Message ID: 27, Timestamp: 2025-03-16 18:07:28, Features: [5.3064, 15.0, 6.423584905660378, 0.9924528301886792, 3060.0, 2.8867924528301887, 38.66, -121.79], Actual Price: 1.6500\n"
     ]
    },
    {
     "name": "stdout",
     "output_type": "stream",
     "text": [
      "Sent Message 27:\n",
      "   - MedInc: 5.3064\n",
      "   - HouseAge: 15.0000\n",
      "   - AveRooms: 6.4236\n",
      "   - AveBedrms: 0.9925\n",
      "   - Population: 3060.0000\n",
      "   - AveOccup: 2.8868\n",
      "   - Latitude: 38.6600\n",
      "   - Longitude: -121.7900\n",
      "   - Actual Price (Target): 1.6500\n",
      "\n"
     ]
    },
    {
     "name": "stderr",
     "output_type": "stream",
     "text": [
      "2025-03-16 18:07:29,757 - INFO - Sent Message ID: 28, Timestamp: 2025-03-16 18:07:29, Features: [4.8226, 18.0, 6.589703588143526, 0.9859594383775352, 1907.0, 2.9750390015600625, 38.66, -121.78], Actual Price: 1.3990\n"
     ]
    },
    {
     "name": "stdout",
     "output_type": "stream",
     "text": [
      "Sent Message 28:\n",
      "   - MedInc: 4.8226\n",
      "   - HouseAge: 18.0000\n",
      "   - AveRooms: 6.5897\n",
      "   - AveBedrms: 0.9860\n",
      "   - Population: 1907.0000\n",
      "   - AveOccup: 2.9750\n",
      "   - Latitude: 38.6600\n",
      "   - Longitude: -121.7800\n",
      "   - Actual Price (Target): 1.3990\n",
      "\n"
     ]
    },
    {
     "name": "stderr",
     "output_type": "stream",
     "text": [
      "2025-03-16 18:07:30,762 - INFO - Sent Message ID: 29, Timestamp: 2025-03-16 18:07:30, Features: [4.1997, 17.0, 5.732758620689655, 1.0603448275862069, 2866.0, 3.0883620689655173, 38.66, -121.76], Actual Price: 1.3340\n"
     ]
    },
    {
     "name": "stdout",
     "output_type": "stream",
     "text": [
      "Sent Message 29:\n",
      "   - MedInc: 4.1997\n",
      "   - HouseAge: 17.0000\n",
      "   - AveRooms: 5.7328\n",
      "   - AveBedrms: 1.0603\n",
      "   - Population: 2866.0000\n",
      "   - AveOccup: 3.0884\n",
      "   - Latitude: 38.6600\n",
      "   - Longitude: -121.7600\n",
      "   - Actual Price (Target): 1.3340\n",
      "\n"
     ]
    },
    {
     "name": "stderr",
     "output_type": "stream",
     "text": [
      "2025-03-16 18:07:31,767 - INFO - Sent Message ID: 30, Timestamp: 2025-03-16 18:07:31, Features: [3.2222, 6.0, 4.821428571428571, 1.0324675324675323, 894.0, 2.9025974025974026, 38.54, -121.96], Actual Price: 1.3960\n"
     ]
    },
    {
     "name": "stdout",
     "output_type": "stream",
     "text": [
      "Sent Message 30:\n",
      "   - MedInc: 3.2222\n",
      "   - HouseAge: 6.0000\n",
      "   - AveRooms: 4.8214\n",
      "   - AveBedrms: 1.0325\n",
      "   - Population: 894.0000\n",
      "   - AveOccup: 2.9026\n",
      "   - Latitude: 38.5400\n",
      "   - Longitude: -121.9600\n",
      "   - Actual Price (Target): 1.3960\n",
      "\n"
     ]
    },
    {
     "name": "stderr",
     "output_type": "stream",
     "text": [
      "2025-03-16 18:07:32,772 - INFO - Sent Message ID: 31, Timestamp: 2025-03-16 18:07:32, Features: [3.4186, 6.0, 5.66256157635468, 1.0270935960591132, 2561.0, 3.153940886699508, 38.53, -121.99], Actual Price: 1.2730\n"
     ]
    },
    {
     "name": "stdout",
     "output_type": "stream",
     "text": [
      "Sent Message 31:\n",
      "   - MedInc: 3.4186\n",
      "   - HouseAge: 6.0000\n",
      "   - AveRooms: 5.6626\n",
      "   - AveBedrms: 1.0271\n",
      "   - Population: 2561.0000\n",
      "   - AveOccup: 3.1539\n",
      "   - Latitude: 38.5300\n",
      "   - Longitude: -121.9900\n",
      "   - Actual Price (Target): 1.2730\n",
      "\n"
     ]
    },
    {
     "name": "stderr",
     "output_type": "stream",
     "text": [
      "2025-03-16 18:07:33,777 - INFO - Sent Message ID: 32, Timestamp: 2025-03-16 18:07:33, Features: [2.7989, 27.0, 5.9221789883268485, 1.0992217898832686, 1583.0, 3.0797665369649807, 38.52, -121.98], Actual Price: 1.2670\n"
     ]
    },
    {
     "name": "stdout",
     "output_type": "stream",
     "text": [
      "Sent Message 32:\n",
      "   - MedInc: 2.7989\n",
      "   - HouseAge: 27.0000\n",
      "   - AveRooms: 5.9222\n",
      "   - AveBedrms: 1.0992\n",
      "   - Population: 1583.0000\n",
      "   - AveOccup: 3.0798\n",
      "   - Latitude: 38.5200\n",
      "   - Longitude: -121.9800\n",
      "   - Actual Price (Target): 1.2670\n",
      "\n"
     ]
    },
    {
     "name": "stderr",
     "output_type": "stream",
     "text": [
      "2025-03-16 18:07:34,782 - INFO - Sent Message ID: 33, Timestamp: 2025-03-16 18:07:34, Features: [5.679, 20.0, 6.401273885350318, 1.070063694267516, 457.0, 2.910828025477707, 38.56, -122.05], Actual Price: 2.2500\n"
     ]
    },
    {
     "name": "stdout",
     "output_type": "stream",
     "text": [
      "Sent Message 33:\n",
      "   - MedInc: 5.6790\n",
      "   - HouseAge: 20.0000\n",
      "   - AveRooms: 6.4013\n",
      "   - AveBedrms: 1.0701\n",
      "   - Population: 457.0000\n",
      "   - AveOccup: 2.9108\n",
      "   - Latitude: 38.5600\n",
      "   - Longitude: -122.0500\n",
      "   - Actual Price (Target): 2.2500\n",
      "\n"
     ]
    },
    {
     "name": "stderr",
     "output_type": "stream",
     "text": [
      "2025-03-16 18:07:35,789 - INFO - Sent Message ID: 34, Timestamp: 2025-03-16 18:07:35, Features: [1.9327, 10.0, 5.789473684210527, 1.0789473684210529, 898.0, 3.93859649122807, 38.57, -121.92], Actual Price: 1.9380\n"
     ]
    },
    {
     "name": "stdout",
     "output_type": "stream",
     "text": [
      "Sent Message 34:\n",
      "   - MedInc: 1.9327\n",
      "   - HouseAge: 10.0000\n",
      "   - AveRooms: 5.7895\n",
      "   - AveBedrms: 1.0789\n",
      "   - Population: 898.0000\n",
      "   - AveOccup: 3.9386\n",
      "   - Latitude: 38.5700\n",
      "   - Longitude: -121.9200\n",
      "   - Actual Price (Target): 1.9380\n",
      "\n"
     ]
    },
    {
     "name": "stderr",
     "output_type": "stream",
     "text": [
      "2025-03-16 18:07:36,794 - INFO - Sent Message ID: 35, Timestamp: 2025-03-16 18:07:36, Features: [3.75, 38.0, 5.275229357798165, 0.981651376146789, 259.0, 2.376146788990826, 38.72, -121.9], Actual Price: 1.8750\n"
     ]
    },
    {
     "name": "stdout",
     "output_type": "stream",
     "text": [
      "Sent Message 35:\n",
      "   - MedInc: 3.7500\n",
      "   - HouseAge: 38.0000\n",
      "   - AveRooms: 5.2752\n",
      "   - AveBedrms: 0.9817\n",
      "   - Population: 259.0000\n",
      "   - AveOccup: 2.3761\n",
      "   - Latitude: 38.7200\n",
      "   - Longitude: -121.9000\n",
      "   - Actual Price (Target): 1.8750\n",
      "\n"
     ]
    },
    {
     "name": "stderr",
     "output_type": "stream",
     "text": [
      "2025-03-16 18:07:37,800 - INFO - Sent Message ID: 36, Timestamp: 2025-03-16 18:07:37, Features: [3.4187, 26.0, 5.230769230769231, 0.9423076923076924, 194.0, 3.730769230769231, 38.83, -122.0], Actual Price: 0.9840\n"
     ]
    },
    {
     "name": "stdout",
     "output_type": "stream",
     "text": [
      "Sent Message 36:\n",
      "   - MedInc: 3.4187\n",
      "   - HouseAge: 26.0000\n",
      "   - AveRooms: 5.2308\n",
      "   - AveBedrms: 0.9423\n",
      "   - Population: 194.0000\n",
      "   - AveOccup: 3.7308\n",
      "   - Latitude: 38.8300\n",
      "   - Longitude: -122.0000\n",
      "   - Actual Price (Target): 0.9840\n",
      "\n"
     ]
    },
    {
     "name": "stderr",
     "output_type": "stream",
     "text": [
      "2025-03-16 18:07:38,805 - INFO - Sent Message ID: 37, Timestamp: 2025-03-16 18:07:38, Features: [2.5478, 15.0, 5.394833948339484, 1.1586715867158672, 774.0, 2.856088560885609, 38.89, -121.94], Actual Price: 0.9170\n"
     ]
    },
    {
     "name": "stdout",
     "output_type": "stream",
     "text": [
      "Sent Message 37:\n",
      "   - MedInc: 2.5478\n",
      "   - HouseAge: 15.0000\n",
      "   - AveRooms: 5.3948\n",
      "   - AveBedrms: 1.1587\n",
      "   - Population: 774.0000\n",
      "   - AveOccup: 2.8561\n",
      "   - Latitude: 38.8900\n",
      "   - Longitude: -121.9400\n",
      "   - Actual Price (Target): 0.9170\n",
      "\n"
     ]
    },
    {
     "name": "stderr",
     "output_type": "stream",
     "text": [
      "2025-03-16 18:07:39,809 - INFO - Sent Message ID: 38, Timestamp: 2025-03-16 18:07:39, Features: [2.8542, 37.0, 5.253731343283582, 0.9701492537313432, 238.0, 3.5522388059701493, 38.84, -121.81], Actual Price: 2.7500\n"
     ]
    },
    {
     "name": "stdout",
     "output_type": "stream",
     "text": [
      "Sent Message 38:\n",
      "   - MedInc: 2.8542\n",
      "   - HouseAge: 37.0000\n",
      "   - AveRooms: 5.2537\n",
      "   - AveBedrms: 0.9701\n",
      "   - Population: 238.0000\n",
      "   - AveOccup: 3.5522\n",
      "   - Latitude: 38.8400\n",
      "   - Longitude: -121.8100\n",
      "   - Actual Price (Target): 2.7500\n",
      "\n"
     ]
    },
    {
     "name": "stderr",
     "output_type": "stream",
     "text": [
      "2025-03-16 18:07:40,814 - INFO - Sent Message ID: 39, Timestamp: 2025-03-16 18:07:40, Features: [1.9559, 36.0, 5.626315789473685, 1.2, 567.0, 2.9842105263157896, 38.8, -121.72], Actual Price: 0.7840\n"
     ]
    },
    {
     "name": "stdout",
     "output_type": "stream",
     "text": [
      "Sent Message 39:\n",
      "   - MedInc: 1.9559\n",
      "   - HouseAge: 36.0000\n",
      "   - AveRooms: 5.6263\n",
      "   - AveBedrms: 1.2000\n",
      "   - Population: 567.0000\n",
      "   - AveOccup: 2.9842\n",
      "   - Latitude: 38.8000\n",
      "   - Longitude: -121.7200\n",
      "   - Actual Price (Target): 0.7840\n",
      "\n"
     ]
    },
    {
     "name": "stderr",
     "output_type": "stream",
     "text": [
      "2025-03-16 18:07:41,820 - INFO - Sent Message ID: 40, Timestamp: 2025-03-16 18:07:41, Features: [2.8365, 32.0, 5.371900826446281, 1.0606060606060606, 1145.0, 3.1542699724517904, 38.76, -121.77], Actual Price: 0.8790\n"
     ]
    },
    {
     "name": "stdout",
     "output_type": "stream",
     "text": [
      "Sent Message 40:\n",
      "   - MedInc: 2.8365\n",
      "   - HouseAge: 32.0000\n",
      "   - AveRooms: 5.3719\n",
      "   - AveBedrms: 1.0606\n",
      "   - Population: 1145.0000\n",
      "   - AveOccup: 3.1543\n",
      "   - Latitude: 38.7600\n",
      "   - Longitude: -121.7700\n",
      "   - Actual Price (Target): 0.8790\n",
      "\n"
     ]
    },
    {
     "name": "stderr",
     "output_type": "stream",
     "text": [
      "2025-03-16 18:07:42,825 - INFO - Sent Message ID: 41, Timestamp: 2025-03-16 18:07:42, Features: [3.1534, 20.0, 5.444976076555024, 1.0574162679425838, 459.0, 2.196172248803828, 38.83, -122.21], Actual Price: 1.2340\n"
     ]
    },
    {
     "name": "stdout",
     "output_type": "stream",
     "text": [
      "Sent Message 41:\n",
      "   - MedInc: 3.1534\n",
      "   - HouseAge: 20.0000\n",
      "   - AveRooms: 5.4450\n",
      "   - AveBedrms: 1.0574\n",
      "   - Population: 459.0000\n",
      "   - AveOccup: 2.1962\n",
      "   - Latitude: 38.8300\n",
      "   - Longitude: -122.2100\n",
      "   - Actual Price (Target): 1.2340\n",
      "\n"
     ]
    },
    {
     "name": "stderr",
     "output_type": "stream",
     "text": [
      "2025-03-16 18:07:43,830 - INFO - Sent Message ID: 42, Timestamp: 2025-03-16 18:07:43, Features: [3.7574, 33.0, 6.135678391959799, 1.185929648241206, 488.0, 2.4522613065326637, 38.9, -122.16], Actual Price: 0.9270\n"
     ]
    },
    {
     "name": "stdout",
     "output_type": "stream",
     "text": [
      "Sent Message 42:\n",
      "   - MedInc: 3.7574\n",
      "   - HouseAge: 33.0000\n",
      "   - AveRooms: 6.1357\n",
      "   - AveBedrms: 1.1859\n",
      "   - Population: 488.0000\n",
      "   - AveOccup: 2.4523\n",
      "   - Latitude: 38.9000\n",
      "   - Longitude: -122.1600\n",
      "   - Actual Price (Target): 0.9270\n",
      "\n"
     ]
    },
    {
     "name": "stderr",
     "output_type": "stream",
     "text": [
      "2025-03-16 18:07:44,834 - INFO - Sent Message ID: 43, Timestamp: 2025-03-16 18:07:44, Features: [3.875, 31.0, 4.416666666666667, 0.8809523809523809, 208.0, 2.4761904761904763, 38.73, -122.0], Actual Price: 1.3750\n"
     ]
    },
    {
     "name": "stdout",
     "output_type": "stream",
     "text": [
      "Sent Message 43:\n",
      "   - MedInc: 3.8750\n",
      "   - HouseAge: 31.0000\n",
      "   - AveRooms: 4.4167\n",
      "   - AveBedrms: 0.8810\n",
      "   - Population: 208.0000\n",
      "   - AveOccup: 2.4762\n",
      "   - Latitude: 38.7300\n",
      "   - Longitude: -122.0000\n",
      "   - Actual Price (Target): 1.3750\n",
      "\n"
     ]
    },
    {
     "name": "stderr",
     "output_type": "stream",
     "text": [
      "2025-03-16 18:07:45,836 - INFO - Sent Message ID: 44, Timestamp: 2025-03-16 18:07:45, Features: [3.3472, 19.0, 5.802752293577981, 1.0458715596330277, 755.0, 3.463302752293578, 38.65, -121.95], Actual Price: 0.6980\n"
     ]
    },
    {
     "name": "stdout",
     "output_type": "stream",
     "text": [
      "Sent Message 44:\n",
      "   - MedInc: 3.3472\n",
      "   - HouseAge: 19.0000\n",
      "   - AveRooms: 5.8028\n",
      "   - AveBedrms: 1.0459\n",
      "   - Population: 755.0000\n",
      "   - AveOccup: 3.4633\n",
      "   - Latitude: 38.6500\n",
      "   - Longitude: -121.9500\n",
      "   - Actual Price (Target): 0.6980\n",
      "\n"
     ]
    },
    {
     "name": "stderr",
     "output_type": "stream",
     "text": [
      "2025-03-16 18:07:46,839 - INFO - Sent Message ID: 45, Timestamp: 2025-03-16 18:07:46, Features: [3.0486, 26.0, 4.756410256410256, 0.9487179487179488, 689.0, 2.9444444444444446, 38.68, -122.04], Actual Price: 0.8360\n"
     ]
    },
    {
     "name": "stdout",
     "output_type": "stream",
     "text": [
      "Sent Message 45:\n",
      "   - MedInc: 3.0486\n",
      "   - HouseAge: 26.0000\n",
      "   - AveRooms: 4.7564\n",
      "   - AveBedrms: 0.9487\n",
      "   - Population: 689.0000\n",
      "   - AveOccup: 2.9444\n",
      "   - Latitude: 38.6800\n",
      "   - Longitude: -122.0400\n",
      "   - Actual Price (Target): 0.8360\n",
      "\n"
     ]
    },
    {
     "name": "stderr",
     "output_type": "stream",
     "text": [
      "2025-03-16 18:07:47,843 - INFO - Sent Message ID: 46, Timestamp: 2025-03-16 18:07:47, Features: [2.7955, 23.0, 5.442424242424242, 1.1515151515151516, 939.0, 2.845454545454545, 38.69, -122.03], Actual Price: 0.9630\n"
     ]
    },
    {
     "name": "stdout",
     "output_type": "stream",
     "text": [
      "Sent Message 46:\n",
      "   - MedInc: 2.7955\n",
      "   - HouseAge: 23.0000\n",
      "   - AveRooms: 5.4424\n",
      "   - AveBedrms: 1.1515\n",
      "   - Population: 939.0000\n",
      "   - AveOccup: 2.8455\n",
      "   - Latitude: 38.6900\n",
      "   - Longitude: -122.0300\n",
      "   - Actual Price (Target): 0.9630\n",
      "\n"
     ]
    },
    {
     "name": "stderr",
     "output_type": "stream",
     "text": [
      "2025-03-16 18:07:48,849 - INFO - Sent Message ID: 47, Timestamp: 2025-03-16 18:07:48, Features: [1.5208, 19.0, 4.517799352750809, 1.087378640776699, 940.0, 3.042071197411003, 39.15, -121.6], Actual Price: 0.7030\n"
     ]
    },
    {
     "name": "stdout",
     "output_type": "stream",
     "text": [
      "Sent Message 47:\n",
      "   - MedInc: 1.5208\n",
      "   - HouseAge: 19.0000\n",
      "   - AveRooms: 4.5178\n",
      "   - AveBedrms: 1.0874\n",
      "   - Population: 940.0000\n",
      "   - AveOccup: 3.0421\n",
      "   - Latitude: 39.1500\n",
      "   - Longitude: -121.6000\n",
      "   - Actual Price (Target): 0.7030\n",
      "\n"
     ]
    },
    {
     "name": "stderr",
     "output_type": "stream",
     "text": [
      "2025-03-16 18:07:49,855 - INFO - Sent Message ID: 48, Timestamp: 2025-03-16 18:07:49, Features: [2.0474, 5.0, 4.378132118451025, 1.1138952164009113, 938.0, 2.1366742596810933, 39.15, -121.59], Actual Price: 0.6130\n"
     ]
    },
    {
     "name": "stdout",
     "output_type": "stream",
     "text": [
      "Sent Message 48:\n",
      "   - MedInc: 2.0474\n",
      "   - HouseAge: 5.0000\n",
      "   - AveRooms: 4.3781\n",
      "   - AveBedrms: 1.1139\n",
      "   - Population: 938.0000\n",
      "   - AveOccup: 2.1367\n",
      "   - Latitude: 39.1500\n",
      "   - Longitude: -121.5900\n",
      "   - Actual Price (Target): 0.6130\n",
      "\n"
     ]
    },
    {
     "name": "stderr",
     "output_type": "stream",
     "text": [
      "2025-03-16 18:07:50,860 - INFO - Sent Message ID: 49, Timestamp: 2025-03-16 18:07:50, Features: [1.6652, 48.0, 4.767379679144385, 1.0668449197860963, 938.0, 2.508021390374332, 39.15, -121.59], Actual Price: 0.5890\n"
     ]
    },
    {
     "name": "stdout",
     "output_type": "stream",
     "text": [
      "Sent Message 49:\n",
      "   - MedInc: 1.6652\n",
      "   - HouseAge: 48.0000\n",
      "   - AveRooms: 4.7674\n",
      "   - AveBedrms: 1.0668\n",
      "   - Population: 938.0000\n",
      "   - AveOccup: 2.5080\n",
      "   - Latitude: 39.1500\n",
      "   - Longitude: -121.5900\n",
      "   - Actual Price (Target): 0.5890\n",
      "\n"
     ]
    },
    {
     "name": "stderr",
     "output_type": "stream",
     "text": [
      "2025-03-16 18:07:51,865 - INFO - Sent Message ID: 50, Timestamp: 2025-03-16 18:07:51, Features: [1.684, 41.0, 4.226628895184136, 0.9915014164305948, 804.0, 2.2776203966005664, 39.14, -121.59], Actual Price: 0.7130\n"
     ]
    },
    {
     "name": "stdout",
     "output_type": "stream",
     "text": [
      "Sent Message 50:\n",
      "   - MedInc: 1.6840\n",
      "   - HouseAge: 41.0000\n",
      "   - AveRooms: 4.2266\n",
      "   - AveBedrms: 0.9915\n",
      "   - Population: 804.0000\n",
      "   - AveOccup: 2.2776\n",
      "   - Latitude: 39.1400\n",
      "   - Longitude: -121.5900\n",
      "   - Actual Price (Target): 0.7130\n",
      "\n"
     ]
    },
    {
     "name": "stderr",
     "output_type": "stream",
     "text": [
      "2025-03-16 18:07:52,869 - INFO - Sent Message ID: 51, Timestamp: 2025-03-16 18:07:52, Features: [1.4946, 34.0, 4.340694006309148, 1.1861198738170349, 702.0, 2.214511041009464, 39.15, -121.58], Actual Price: 0.5550\n"
     ]
    },
    {
     "name": "stdout",
     "output_type": "stream",
     "text": [
      "Sent Message 51:\n",
      "   - MedInc: 1.4946\n",
      "   - HouseAge: 34.0000\n",
      "   - AveRooms: 4.3407\n",
      "   - AveBedrms: 1.1861\n",
      "   - Population: 702.0000\n",
      "   - AveOccup: 2.2145\n",
      "   - Latitude: 39.1500\n",
      "   - Longitude: -121.5800\n",
      "   - Actual Price (Target): 0.5550\n",
      "\n"
     ]
    },
    {
     "name": "stderr",
     "output_type": "stream",
     "text": [
      "2025-03-16 18:07:53,873 - INFO - Sent Message ID: 52, Timestamp: 2025-03-16 18:07:53, Features: [0.8928, 52.0, 4.442953020134228, 1.0738255033557047, 520.0, 3.48993288590604, 39.14, -121.58], Actual Price: 0.5500\n"
     ]
    },
    {
     "name": "stdout",
     "output_type": "stream",
     "text": [
      "Sent Message 52:\n",
      "   - MedInc: 0.8928\n",
      "   - HouseAge: 52.0000\n",
      "   - AveRooms: 4.4430\n",
      "   - AveBedrms: 1.0738\n",
      "   - Population: 520.0000\n",
      "   - AveOccup: 3.4899\n",
      "   - Latitude: 39.1400\n",
      "   - Longitude: -121.5800\n",
      "   - Actual Price (Target): 0.5500\n",
      "\n"
     ]
    },
    {
     "name": "stderr",
     "output_type": "stream",
     "text": [
      "2025-03-16 18:07:54,877 - INFO - Sent Message ID: 53, Timestamp: 2025-03-16 18:07:54, Features: [3.3611, 36.0, 5.911764705882353, 0.965686274509804, 537.0, 2.6323529411764706, 39.16, -121.58], Actual Price: 0.7980\n"
     ]
    },
    {
     "name": "stdout",
     "output_type": "stream",
     "text": [
      "Sent Message 53:\n",
      "   - MedInc: 3.3611\n",
      "   - HouseAge: 36.0000\n",
      "   - AveRooms: 5.9118\n",
      "   - AveBedrms: 0.9657\n",
      "   - Population: 537.0000\n",
      "   - AveOccup: 2.6324\n",
      "   - Latitude: 39.1600\n",
      "   - Longitude: -121.5800\n",
      "   - Actual Price (Target): 0.7980\n",
      "\n"
     ]
    },
    {
     "name": "stderr",
     "output_type": "stream",
     "text": [
      "2025-03-16 18:07:55,882 - INFO - Sent Message ID: 54, Timestamp: 2025-03-16 18:07:55, Features: [3.725, 21.0, 6.219269102990033, 1.0033222591362123, 870.0, 2.8903654485049834, 39.16, -121.57], Actual Price: 0.8470\n"
     ]
    },
    {
     "name": "stdout",
     "output_type": "stream",
     "text": [
      "Sent Message 54:\n",
      "   - MedInc: 3.7250\n",
      "   - HouseAge: 21.0000\n",
      "   - AveRooms: 6.2193\n",
      "   - AveBedrms: 1.0033\n",
      "   - Population: 870.0000\n",
      "   - AveOccup: 2.8904\n",
      "   - Latitude: 39.1600\n",
      "   - Longitude: -121.5700\n",
      "   - Actual Price (Target): 0.8470\n",
      "\n"
     ]
    },
    {
     "name": "stderr",
     "output_type": "stream",
     "text": [
      "2025-03-16 18:07:56,887 - INFO - Sent Message ID: 55, Timestamp: 2025-03-16 18:07:56, Features: [2.9647, 12.0, 5.410339256865913, 1.037156704361874, 2029.0, 3.2778675282714054, 39.16, -121.56], Actual Price: 0.8880\n"
     ]
    },
    {
     "name": "stdout",
     "output_type": "stream",
     "text": [
      "Sent Message 55:\n",
      "   - MedInc: 2.9647\n",
      "   - HouseAge: 12.0000\n",
      "   - AveRooms: 5.4103\n",
      "   - AveBedrms: 1.0372\n",
      "   - Population: 2029.0000\n",
      "   - AveOccup: 3.2779\n",
      "   - Latitude: 39.1600\n",
      "   - Longitude: -121.5600\n",
      "   - Actual Price (Target): 0.8880\n",
      "\n"
     ]
    },
    {
     "name": "stderr",
     "output_type": "stream",
     "text": [
      "2025-03-16 18:07:57,890 - INFO - Sent Message ID: 56, Timestamp: 2025-03-16 18:07:57, Features: [2.6964, 33.0, 6.16060606060606, 1.1363636363636365, 914.0, 2.769696969696969, 39.16, -121.57], Actual Price: 0.6850\n"
     ]
    },
    {
     "name": "stdout",
     "output_type": "stream",
     "text": [
      "Sent Message 56:\n",
      "   - MedInc: 2.6964\n",
      "   - HouseAge: 33.0000\n",
      "   - AveRooms: 6.1606\n",
      "   - AveBedrms: 1.1364\n",
      "   - Population: 914.0000\n",
      "   - AveOccup: 2.7697\n",
      "   - Latitude: 39.1600\n",
      "   - Longitude: -121.5700\n",
      "   - Actual Price (Target): 0.6850\n",
      "\n"
     ]
    },
    {
     "name": "stderr",
     "output_type": "stream",
     "text": [
      "2025-03-16 18:07:58,894 - INFO - Sent Message ID: 57, Timestamp: 2025-03-16 18:07:58, Features: [2.1111, 33.0, 4.927272727272728, 0.9818181818181818, 888.0, 2.3064935064935064, 39.16, -121.58], Actual Price: 0.6870\n"
     ]
    },
    {
     "name": "stdout",
     "output_type": "stream",
     "text": [
      "Sent Message 57:\n",
      "   - MedInc: 2.1111\n",
      "   - HouseAge: 33.0000\n",
      "   - AveRooms: 4.9273\n",
      "   - AveBedrms: 0.9818\n",
      "   - Population: 888.0000\n",
      "   - AveOccup: 2.3065\n",
      "   - Latitude: 39.1600\n",
      "   - Longitude: -121.5800\n",
      "   - Actual Price (Target): 0.6870\n",
      "\n"
     ]
    },
    {
     "name": "stderr",
     "output_type": "stream",
     "text": [
      "2025-03-16 18:07:59,899 - INFO - Sent Message ID: 58, Timestamp: 2025-03-16 18:07:59, Features: [1.9122, 38.0, 4.379052369077307, 0.9875311720698254, 837.0, 2.0872817955112217, 39.15, -121.58], Actual Price: 0.5550\n"
     ]
    },
    {
     "name": "stdout",
     "output_type": "stream",
     "text": [
      "Sent Message 58:\n",
      "   - MedInc: 1.9122\n",
      "   - HouseAge: 38.0000\n",
      "   - AveRooms: 4.3791\n",
      "   - AveBedrms: 0.9875\n",
      "   - Population: 837.0000\n",
      "   - AveOccup: 2.0873\n",
      "   - Latitude: 39.1500\n",
      "   - Longitude: -121.5800\n",
      "   - Actual Price (Target): 0.5550\n",
      "\n"
     ]
    },
    {
     "name": "stderr",
     "output_type": "stream",
     "text": [
      "2025-03-16 18:08:00,904 - INFO - Sent Message ID: 59, Timestamp: 2025-03-16 18:08:00, Features: [1.5827, 35.0, 5.273838630806846, 1.078239608801956, 1009.0, 2.466992665036675, 39.16, -121.56], Actual Price: 0.6300\n"
     ]
    },
    {
     "name": "stdout",
     "output_type": "stream",
     "text": [
      "Sent Message 59:\n",
      "   - MedInc: 1.5827\n",
      "   - HouseAge: 35.0000\n",
      "   - AveRooms: 5.2738\n",
      "   - AveBedrms: 1.0782\n",
      "   - Population: 1009.0000\n",
      "   - AveOccup: 2.4670\n",
      "   - Latitude: 39.1600\n",
      "   - Longitude: -121.5600\n",
      "   - Actual Price (Target): 0.6300\n",
      "\n"
     ]
    },
    {
     "name": "stderr",
     "output_type": "stream",
     "text": [
      "2025-03-16 18:08:01,909 - INFO - Sent Message ID: 60, Timestamp: 2025-03-16 18:08:01, Features: [3.1029, 18.0, 4.945454545454545, 1.112121212121212, 769.0, 2.33030303030303, 39.16, -121.57], Actual Price: 0.7170\n"
     ]
    },
    {
     "name": "stdout",
     "output_type": "stream",
     "text": [
      "Sent Message 60:\n",
      "   - MedInc: 3.1029\n",
      "   - HouseAge: 18.0000\n",
      "   - AveRooms: 4.9455\n",
      "   - AveBedrms: 1.1121\n",
      "   - Population: 769.0000\n",
      "   - AveOccup: 2.3303\n",
      "   - Latitude: 39.1600\n",
      "   - Longitude: -121.5700\n",
      "   - Actual Price (Target): 0.7170\n",
      "\n"
     ]
    },
    {
     "name": "stderr",
     "output_type": "stream",
     "text": [
      "2025-03-16 18:08:02,914 - INFO - Sent Message ID: 61, Timestamp: 2025-03-16 18:08:02, Features: [1.5694, 30.0, 5.0227272727272725, 1.1704545454545454, 413.0, 4.693181818181818, 39.13, -121.57], Actual Price: 0.5790\n"
     ]
    },
    {
     "name": "stdout",
     "output_type": "stream",
     "text": [
      "Sent Message 61:\n",
      "   - MedInc: 1.5694\n",
      "   - HouseAge: 30.0000\n",
      "   - AveRooms: 5.0227\n",
      "   - AveBedrms: 1.1705\n",
      "   - Population: 413.0000\n",
      "   - AveOccup: 4.6932\n",
      "   - Latitude: 39.1300\n",
      "   - Longitude: -121.5700\n",
      "   - Actual Price (Target): 0.5790\n",
      "\n"
     ]
    },
    {
     "name": "stderr",
     "output_type": "stream",
     "text": [
      "2025-03-16 18:08:03,920 - INFO - Sent Message ID: 62, Timestamp: 2025-03-16 18:08:03, Features: [1.5085, 17.0, 4.051601423487544, 1.0818505338078293, 1607.0, 2.8594306049822062, 39.13, -121.56], Actual Price: 0.6970\n"
     ]
    },
    {
     "name": "stdout",
     "output_type": "stream",
     "text": [
      "Sent Message 62:\n",
      "   - MedInc: 1.5085\n",
      "   - HouseAge: 17.0000\n",
      "   - AveRooms: 4.0516\n",
      "   - AveBedrms: 1.0819\n",
      "   - Population: 1607.0000\n",
      "   - AveOccup: 2.8594\n",
      "   - Latitude: 39.1300\n",
      "   - Longitude: -121.5600\n",
      "   - Actual Price (Target): 0.6970\n",
      "\n"
     ]
    },
    {
     "name": "stderr",
     "output_type": "stream",
     "text": [
      "2025-03-16 18:08:04,923 - INFO - Sent Message ID: 63, Timestamp: 2025-03-16 18:08:04, Features: [1.3375, 18.0, 4.567625133120341, 1.0873269435569757, 2707.0, 2.8828541001064965, 39.13, -121.54], Actual Price: 0.5960\n"
     ]
    },
    {
     "name": "stdout",
     "output_type": "stream",
     "text": [
      "Sent Message 63:\n",
      "   - MedInc: 1.3375\n",
      "   - HouseAge: 18.0000\n",
      "   - AveRooms: 4.5676\n",
      "   - AveBedrms: 1.0873\n",
      "   - Population: 2707.0000\n",
      "   - AveOccup: 2.8829\n",
      "   - Latitude: 39.1300\n",
      "   - Longitude: -121.5400\n",
      "   - Actual Price (Target): 0.5960\n",
      "\n"
     ]
    },
    {
     "name": "stderr",
     "output_type": "stream",
     "text": [
      "2025-03-16 18:08:05,928 - INFO - Sent Message ID: 64, Timestamp: 2025-03-16 18:08:05, Features: [2.3496, 17.0, 4.5513918629550325, 0.9625267665952892, 3265.0, 3.4957173447537477, 39.12, -121.54], Actual Price: 0.6500\n"
     ]
    },
    {
     "name": "stdout",
     "output_type": "stream",
     "text": [
      "Sent Message 64:\n",
      "   - MedInc: 2.3496\n",
      "   - HouseAge: 17.0000\n",
      "   - AveRooms: 4.5514\n",
      "   - AveBedrms: 0.9625\n",
      "   - Population: 3265.0000\n",
      "   - AveOccup: 3.4957\n",
      "   - Latitude: 39.1200\n",
      "   - Longitude: -121.5400\n",
      "   - Actual Price (Target): 0.6500\n",
      "\n"
     ]
    },
    {
     "name": "stderr",
     "output_type": "stream",
     "text": [
      "2025-03-16 18:08:06,933 - INFO - Sent Message ID: 65, Timestamp: 2025-03-16 18:08:06, Features: [1.8355, 26.0, 4.424050632911392, 0.995253164556962, 2017.0, 3.191455696202532, 39.12, -121.58], Actual Price: 0.6120\n"
     ]
    },
    {
     "name": "stdout",
     "output_type": "stream",
     "text": [
      "Sent Message 65:\n",
      "   - MedInc: 1.8355\n",
      "   - HouseAge: 26.0000\n",
      "   - AveRooms: 4.4241\n",
      "   - AveBedrms: 0.9953\n",
      "   - Population: 2017.0000\n",
      "   - AveOccup: 3.1915\n",
      "   - Latitude: 39.1200\n",
      "   - Longitude: -121.5800\n",
      "   - Actual Price (Target): 0.6120\n",
      "\n"
     ]
    },
    {
     "name": "stderr",
     "output_type": "stream",
     "text": [
      "2025-03-16 18:08:07,938 - INFO - Sent Message ID: 66, Timestamp: 2025-03-16 18:08:07, Features: [2.08, 30.0, 5.140316205533597, 1.0553359683794463, 1702.0, 3.363636363636364, 39.12, -121.57], Actual Price: 0.5660\n"
     ]
    },
    {
     "name": "stdout",
     "output_type": "stream",
     "text": [
      "Sent Message 66:\n",
      "   - MedInc: 2.0800\n",
      "   - HouseAge: 30.0000\n",
      "   - AveRooms: 5.1403\n",
      "   - AveBedrms: 1.0553\n",
      "   - Population: 1702.0000\n",
      "   - AveOccup: 3.3636\n",
      "   - Latitude: 39.1200\n",
      "   - Longitude: -121.5700\n",
      "   - Actual Price (Target): 0.5660\n",
      "\n"
     ]
    },
    {
     "name": "stderr",
     "output_type": "stream",
     "text": [
      "2025-03-16 18:08:08,944 - INFO - Sent Message ID: 67, Timestamp: 2025-03-16 18:08:08, Features: [1.8413, 28.0, 5.041958041958042, 1.1643356643356644, 832.0, 2.909090909090909, 39.1, -121.57], Actual Price: 0.6230\n"
     ]
    },
    {
     "name": "stdout",
     "output_type": "stream",
     "text": [
      "Sent Message 67:\n",
      "   - MedInc: 1.8413\n",
      "   - HouseAge: 28.0000\n",
      "   - AveRooms: 5.0420\n",
      "   - AveBedrms: 1.1643\n",
      "   - Population: 832.0000\n",
      "   - AveOccup: 2.9091\n",
      "   - Latitude: 39.1000\n",
      "   - Longitude: -121.5700\n",
      "   - Actual Price (Target): 0.6230\n",
      "\n"
     ]
    },
    {
     "name": "stderr",
     "output_type": "stream",
     "text": [
      "2025-03-16 18:08:09,948 - INFO - Sent Message ID: 68, Timestamp: 2025-03-16 18:08:09, Features: [1.7167, 24.0, 5.4, 1.273170731707317, 768.0, 3.7463414634146335, 39.1, -121.59], Actual Price: 0.4880\n"
     ]
    },
    {
     "name": "stdout",
     "output_type": "stream",
     "text": [
      "Sent Message 68:\n",
      "   - MedInc: 1.7167\n",
      "   - HouseAge: 24.0000\n",
      "   - AveRooms: 5.4000\n",
      "   - AveBedrms: 1.2732\n",
      "   - Population: 768.0000\n",
      "   - AveOccup: 3.7463\n",
      "   - Latitude: 39.1000\n",
      "   - Longitude: -121.5900\n",
      "   - Actual Price (Target): 0.4880\n",
      "\n"
     ]
    },
    {
     "name": "stderr",
     "output_type": "stream",
     "text": [
      "2025-03-16 18:08:10,953 - INFO - Sent Message ID: 69, Timestamp: 2025-03-16 18:08:10, Features: [2.3011, 18.0, 4.856823266219239, 1.0738255033557047, 1527.0, 3.416107382550336, 39.11, -121.56], Actual Price: 0.5750\n"
     ]
    },
    {
     "name": "stdout",
     "output_type": "stream",
     "text": [
      "Sent Message 69:\n",
      "   - MedInc: 2.3011\n",
      "   - HouseAge: 18.0000\n",
      "   - AveRooms: 4.8568\n",
      "   - AveBedrms: 1.0738\n",
      "   - Population: 1527.0000\n",
      "   - AveOccup: 3.4161\n",
      "   - Latitude: 39.1100\n",
      "   - Longitude: -121.5600\n",
      "   - Actual Price (Target): 0.5750\n",
      "\n"
     ]
    },
    {
     "name": "stderr",
     "output_type": "stream",
     "text": [
      "2025-03-16 18:08:11,958 - INFO - Sent Message ID: 70, Timestamp: 2025-03-16 18:08:11, Features: [1.3631, 28.0, 4.851936218678816, 1.10250569476082, 1195.0, 2.722095671981777, 39.1, -121.56], Actual Price: 0.4550\n"
     ]
    },
    {
     "name": "stdout",
     "output_type": "stream",
     "text": [
      "Sent Message 70:\n",
      "   - MedInc: 1.3631\n",
      "   - HouseAge: 28.0000\n",
      "   - AveRooms: 4.8519\n",
      "   - AveBedrms: 1.1025\n",
      "   - Population: 1195.0000\n",
      "   - AveOccup: 2.7221\n",
      "   - Latitude: 39.1000\n",
      "   - Longitude: -121.5600\n",
      "   - Actual Price (Target): 0.4550\n",
      "\n"
     ]
    },
    {
     "name": "stderr",
     "output_type": "stream",
     "text": [
      "2025-03-16 18:08:12,964 - INFO - Sent Message ID: 71, Timestamp: 2025-03-16 18:08:12, Features: [1.2857, 27.0, 4.359413202933985, 1.078239608801956, 1163.0, 2.843520782396088, 39.1, -121.55], Actual Price: 0.4700\n"
     ]
    },
    {
     "name": "stdout",
     "output_type": "stream",
     "text": [
      "Sent Message 71:\n",
      "   - MedInc: 1.2857\n",
      "   - HouseAge: 27.0000\n",
      "   - AveRooms: 4.3594\n",
      "   - AveBedrms: 1.0782\n",
      "   - Population: 1163.0000\n",
      "   - AveOccup: 2.8435\n",
      "   - Latitude: 39.1000\n",
      "   - Longitude: -121.5500\n",
      "   - Actual Price (Target): 0.4700\n",
      "\n"
     ]
    },
    {
     "name": "stderr",
     "output_type": "stream",
     "text": [
      "2025-03-16 18:08:13,968 - INFO - Sent Message ID: 72, Timestamp: 2025-03-16 18:08:13, Features: [1.4934, 26.0, 5.157303370786517, 1.0823970037453183, 761.0, 2.850187265917603, 39.08, -121.56], Actual Price: 0.4830\n"
     ]
    },
    {
     "name": "stdout",
     "output_type": "stream",
     "text": [
      "Sent Message 72:\n",
      "   - MedInc: 1.4934\n",
      "   - HouseAge: 26.0000\n",
      "   - AveRooms: 5.1573\n",
      "   - AveBedrms: 1.0824\n",
      "   - Population: 761.0000\n",
      "   - AveOccup: 2.8502\n",
      "   - Latitude: 39.0800\n",
      "   - Longitude: -121.5600\n",
      "   - Actual Price (Target): 0.4830\n",
      "\n"
     ]
    },
    {
     "name": "stderr",
     "output_type": "stream",
     "text": [
      "2025-03-16 18:08:14,973 - INFO - Sent Message ID: 73, Timestamp: 2025-03-16 18:08:14, Features: [1.4958, 31.0, 4.5, 0.9505208333333334, 1167.0, 3.0390625, 39.09, -121.55], Actual Price: 0.5340\n"
     ]
    },
    {
     "name": "stdout",
     "output_type": "stream",
     "text": [
      "Sent Message 73:\n",
      "   - MedInc: 1.4958\n",
      "   - HouseAge: 31.0000\n",
      "   - AveRooms: 4.5000\n",
      "   - AveBedrms: 0.9505\n",
      "   - Population: 1167.0000\n",
      "   - AveOccup: 3.0391\n",
      "   - Latitude: 39.0900\n",
      "   - Longitude: -121.5500\n",
      "   - Actual Price (Target): 0.5340\n",
      "\n"
     ]
    },
    {
     "name": "stderr",
     "output_type": "stream",
     "text": [
      "2025-03-16 18:08:15,979 - INFO - Sent Message ID: 74, Timestamp: 2025-03-16 18:08:15, Features: [2.4695, 26.0, 4.801687763713081, 0.9704641350210972, 1455.0, 3.069620253164557, 39.08, -121.54], Actual Price: 0.5800\n"
     ]
    },
    {
     "name": "stdout",
     "output_type": "stream",
     "text": [
      "Sent Message 74:\n",
      "   - MedInc: 2.4695\n",
      "   - HouseAge: 26.0000\n",
      "   - AveRooms: 4.8017\n",
      "   - AveBedrms: 0.9705\n",
      "   - Population: 1455.0000\n",
      "   - AveOccup: 3.0696\n",
      "   - Latitude: 39.0800\n",
      "   - Longitude: -121.5400\n",
      "   - Actual Price (Target): 0.5800\n",
      "\n"
     ]
    },
    {
     "name": "stderr",
     "output_type": "stream",
     "text": [
      "2025-03-16 18:08:16,985 - INFO - Sent Message ID: 75, Timestamp: 2025-03-16 18:08:16, Features: [2.3598, 23.0, 5.461928934010152, 1.0964467005076142, 724.0, 3.6751269035532994, 39.08, -121.54], Actual Price: 0.5750\n"
     ]
    },
    {
     "name": "stdout",
     "output_type": "stream",
     "text": [
      "Sent Message 75:\n",
      "   - MedInc: 2.3598\n",
      "   - HouseAge: 23.0000\n",
      "   - AveRooms: 5.4619\n",
      "   - AveBedrms: 1.0964\n",
      "   - Population: 724.0000\n",
      "   - AveOccup: 3.6751\n",
      "   - Latitude: 39.0800\n",
      "   - Longitude: -121.5400\n",
      "   - Actual Price (Target): 0.5750\n",
      "\n"
     ]
    },
    {
     "name": "stderr",
     "output_type": "stream",
     "text": [
      "2025-03-16 18:08:17,990 - INFO - Sent Message ID: 76, Timestamp: 2025-03-16 18:08:17, Features: [2.0469, 15.0, 4.826666666666667, 1.176, 1157.0, 3.0853333333333333, 39.08, -121.53], Actual Price: 0.5510\n"
     ]
    },
    {
     "name": "stdout",
     "output_type": "stream",
     "text": [
      "Sent Message 76:\n",
      "   - MedInc: 2.0469\n",
      "   - HouseAge: 15.0000\n",
      "   - AveRooms: 4.8267\n",
      "   - AveBedrms: 1.1760\n",
      "   - Population: 1157.0000\n",
      "   - AveOccup: 3.0853\n",
      "   - Latitude: 39.0800\n",
      "   - Longitude: -121.5300\n",
      "   - Actual Price (Target): 0.5510\n",
      "\n"
     ]
    },
    {
     "name": "stderr",
     "output_type": "stream",
     "text": [
      "2025-03-16 18:08:18,995 - INFO - Sent Message ID: 77, Timestamp: 2025-03-16 18:08:18, Features: [3.3021, 20.0, 4.921052631578948, 0.956140350877193, 308.0, 2.701754385964912, 39.06, -121.53], Actual Price: 0.7080\n"
     ]
    },
    {
     "name": "stdout",
     "output_type": "stream",
     "text": [
      "Sent Message 77:\n",
      "   - MedInc: 3.3021\n",
      "   - HouseAge: 20.0000\n",
      "   - AveRooms: 4.9211\n",
      "   - AveBedrms: 0.9561\n",
      "   - Population: 308.0000\n",
      "   - AveOccup: 2.7018\n",
      "   - Latitude: 39.0600\n",
      "   - Longitude: -121.5300\n",
      "   - Actual Price (Target): 0.7080\n",
      "\n"
     ]
    },
    {
     "name": "stderr",
     "output_type": "stream",
     "text": [
      "2025-03-16 18:08:20,001 - INFO - Sent Message ID: 78, Timestamp: 2025-03-16 18:08:19, Features: [2.25, 25.0, 5.893805309734513, 1.092920353982301, 726.0, 3.2123893805309733, 39.06, -121.55], Actual Price: 0.6340\n"
     ]
    },
    {
     "name": "stdout",
     "output_type": "stream",
     "text": [
      "Sent Message 78:\n",
      "   - MedInc: 2.2500\n",
      "   - HouseAge: 25.0000\n",
      "   - AveRooms: 5.8938\n",
      "   - AveBedrms: 1.0929\n",
      "   - Population: 726.0000\n",
      "   - AveOccup: 3.2124\n",
      "   - Latitude: 39.0600\n",
      "   - Longitude: -121.5500\n",
      "   - Actual Price (Target): 0.6340\n",
      "\n"
     ]
    },
    {
     "name": "stderr",
     "output_type": "stream",
     "text": [
      "2025-03-16 18:08:21,006 - INFO - Sent Message ID: 79, Timestamp: 2025-03-16 18:08:21, Features: [2.7303, 22.0, 6.388513513513513, 1.148648648648649, 1023.0, 3.456081081081081, 39.01, -121.56], Actual Price: 0.9910\n"
     ]
    },
    {
     "name": "stdout",
     "output_type": "stream",
     "text": [
      "Sent Message 79:\n",
      "   - MedInc: 2.7303\n",
      "   - HouseAge: 22.0000\n",
      "   - AveRooms: 6.3885\n",
      "   - AveBedrms: 1.1486\n",
      "   - Population: 1023.0000\n",
      "   - AveOccup: 3.4561\n",
      "   - Latitude: 39.0100\n",
      "   - Longitude: -121.5600\n",
      "   - Actual Price (Target): 0.9910\n",
      "\n"
     ]
    },
    {
     "name": "stderr",
     "output_type": "stream",
     "text": [
      "2025-03-16 18:08:22,009 - INFO - Sent Message ID: 80, Timestamp: 2025-03-16 18:08:22, Features: [4.5625, 40.0, 4.125, 0.8541666666666666, 151.0, 3.145833333333333, 39.05, -121.48], Actual Price: 1.0000\n"
     ]
    },
    {
     "name": "stdout",
     "output_type": "stream",
     "text": [
      "Sent Message 80:\n",
      "   - MedInc: 4.5625\n",
      "   - HouseAge: 40.0000\n",
      "   - AveRooms: 4.1250\n",
      "   - AveBedrms: 0.8542\n",
      "   - Population: 151.0000\n",
      "   - AveOccup: 3.1458\n",
      "   - Latitude: 39.0500\n",
      "   - Longitude: -121.4800\n",
      "   - Actual Price (Target): 1.0000\n",
      "\n"
     ]
    },
    {
     "name": "stderr",
     "output_type": "stream",
     "text": [
      "2025-03-16 18:08:23,013 - INFO - Sent Message ID: 81, Timestamp: 2025-03-16 18:08:23, Features: [2.3661, 37.0, 7.923566878980892, 1.5732484076433122, 484.0, 3.082802547770701, 39.01, -121.47], Actual Price: 0.7750\n"
     ]
    },
    {
     "name": "stdout",
     "output_type": "stream",
     "text": [
      "Sent Message 81:\n",
      "   - MedInc: 2.3661\n",
      "   - HouseAge: 37.0000\n",
      "   - AveRooms: 7.9236\n",
      "   - AveBedrms: 1.5732\n",
      "   - Population: 484.0000\n",
      "   - AveOccup: 3.0828\n",
      "   - Latitude: 39.0100\n",
      "   - Longitude: -121.4700\n",
      "   - Actual Price (Target): 0.7750\n",
      "\n"
     ]
    },
    {
     "name": "stderr",
     "output_type": "stream",
     "text": [
      "2025-03-16 18:08:24,018 - INFO - Sent Message ID: 82, Timestamp: 2025-03-16 18:08:24, Features: [2.4167, 20.0, 4.808917197452229, 0.9363057324840764, 457.0, 2.910828025477707, 39.0, -121.44], Actual Price: 0.6700\n"
     ]
    },
    {
     "name": "stdout",
     "output_type": "stream",
     "text": [
      "Sent Message 82:\n",
      "   - MedInc: 2.4167\n",
      "   - HouseAge: 20.0000\n",
      "   - AveRooms: 4.8089\n",
      "   - AveBedrms: 0.9363\n",
      "   - Population: 457.0000\n",
      "   - AveOccup: 2.9108\n",
      "   - Latitude: 39.0000\n",
      "   - Longitude: -121.4400\n",
      "   - Actual Price (Target): 0.6700\n",
      "\n"
     ]
    },
    {
     "name": "stderr",
     "output_type": "stream",
     "text": [
      "2025-03-16 18:08:25,023 - INFO - Sent Message ID: 83, Timestamp: 2025-03-16 18:08:25, Features: [2.8235, 32.0, 5.101321585903084, 1.0748898678414096, 598.0, 2.6343612334801763, 39.03, -121.37], Actual Price: 0.6550\n"
     ]
    },
    {
     "name": "stdout",
     "output_type": "stream",
     "text": [
      "Sent Message 83:\n",
      "   - MedInc: 2.8235\n",
      "   - HouseAge: 32.0000\n",
      "   - AveRooms: 5.1013\n",
      "   - AveBedrms: 1.0749\n",
      "   - Population: 598.0000\n",
      "   - AveOccup: 2.6344\n",
      "   - Latitude: 39.0300\n",
      "   - Longitude: -121.3700\n",
      "   - Actual Price (Target): 0.6550\n",
      "\n"
     ]
    },
    {
     "name": "stderr",
     "output_type": "stream",
     "text": [
      "2025-03-16 18:08:26,028 - INFO - Sent Message ID: 84, Timestamp: 2025-03-16 18:08:26, Features: [3.0739, 16.0, 5.835051546391752, 1.0309278350515465, 731.0, 2.5120274914089347, 39.04, -121.41], Actual Price: 0.8720\n"
     ]
    },
    {
     "name": "stdout",
     "output_type": "stream",
     "text": [
      "Sent Message 84:\n",
      "   - MedInc: 3.0739\n",
      "   - HouseAge: 16.0000\n",
      "   - AveRooms: 5.8351\n",
      "   - AveBedrms: 1.0309\n",
      "   - Population: 731.0000\n",
      "   - AveOccup: 2.5120\n",
      "   - Latitude: 39.0400\n",
      "   - Longitude: -121.4100\n",
      "   - Actual Price (Target): 0.8720\n",
      "\n"
     ]
    },
    {
     "name": "stderr",
     "output_type": "stream",
     "text": [
      "2025-03-16 18:08:27,033 - INFO - Sent Message ID: 85, Timestamp: 2025-03-16 18:08:27, Features: [4.125, 37.0, 7.285714285714286, 1.2142857142857142, 29.0, 2.071428571428572, 39.12, -121.52], Actual Price: 0.7200\n"
     ]
    },
    {
     "name": "stdout",
     "output_type": "stream",
     "text": [
      "Sent Message 85:\n",
      "   - MedInc: 4.1250\n",
      "   - HouseAge: 37.0000\n",
      "   - AveRooms: 7.2857\n",
      "   - AveBedrms: 1.2143\n",
      "   - Population: 29.0000\n",
      "   - AveOccup: 2.0714\n",
      "   - Latitude: 39.1200\n",
      "   - Longitude: -121.5200\n",
      "   - Actual Price (Target): 0.7200\n",
      "\n"
     ]
    },
    {
     "name": "stderr",
     "output_type": "stream",
     "text": [
      "2025-03-16 18:08:28,038 - INFO - Sent Message ID: 86, Timestamp: 2025-03-16 18:08:28, Features: [2.1667, 36.0, 6.573099415204679, 1.0760233918128654, 504.0, 2.9473684210526314, 39.18, -121.43], Actual Price: 0.9380\n"
     ]
    },
    {
     "name": "stdout",
     "output_type": "stream",
     "text": [
      "Sent Message 86:\n",
      "   - MedInc: 2.1667\n",
      "   - HouseAge: 36.0000\n",
      "   - AveRooms: 6.5731\n",
      "   - AveBedrms: 1.0760\n",
      "   - Population: 504.0000\n",
      "   - AveOccup: 2.9474\n",
      "   - Latitude: 39.1800\n",
      "   - Longitude: -121.4300\n",
      "   - Actual Price (Target): 0.9380\n",
      "\n"
     ]
    },
    {
     "name": "stderr",
     "output_type": "stream",
     "text": [
      "2025-03-16 18:08:29,043 - INFO - Sent Message ID: 87, Timestamp: 2025-03-16 18:08:29, Features: [3.0, 5.0, 6.067796610169491, 1.1016949152542372, 169.0, 2.864406779661017, 39.13, -121.32], Actual Price: 1.6250\n"
     ]
    },
    {
     "name": "stdout",
     "output_type": "stream",
     "text": [
      "Sent Message 87:\n",
      "   - MedInc: 3.0000\n",
      "   - HouseAge: 5.0000\n",
      "   - AveRooms: 6.0678\n",
      "   - AveBedrms: 1.1017\n",
      "   - Population: 169.0000\n",
      "   - AveOccup: 2.8644\n",
      "   - Latitude: 39.1300\n",
      "   - Longitude: -121.3200\n",
      "   - Actual Price (Target): 1.6250\n",
      "\n"
     ]
    },
    {
     "name": "stderr",
     "output_type": "stream",
     "text": [
      "2025-03-16 18:08:30,049 - INFO - Sent Message ID: 88, Timestamp: 2025-03-16 18:08:30, Features: [2.5952, 19.0, 5.2384615384615385, 1.0794871794871794, 1018.0, 2.6102564102564103, 39.1, -121.48], Actual Price: 0.9240\n"
     ]
    },
    {
     "name": "stdout",
     "output_type": "stream",
     "text": [
      "Sent Message 88:\n",
      "   - MedInc: 2.5952\n",
      "   - HouseAge: 19.0000\n",
      "   - AveRooms: 5.2385\n",
      "   - AveBedrms: 1.0795\n",
      "   - Population: 1018.0000\n",
      "   - AveOccup: 2.6103\n",
      "   - Latitude: 39.1000\n",
      "   - Longitude: -121.4800\n",
      "   - Actual Price (Target): 0.9240\n",
      "\n"
     ]
    },
    {
     "name": "stderr",
     "output_type": "stream",
     "text": [
      "2025-03-16 18:08:31,053 - INFO - Sent Message ID: 89, Timestamp: 2025-03-16 18:08:31, Features: [2.0943, 28.0, 5.51980198019802, 1.020902090209021, 6912.0, 3.801980198019802, 39.12, -121.39], Actual Price: 1.0830\n"
     ]
    },
    {
     "name": "stdout",
     "output_type": "stream",
     "text": [
      "Sent Message 89:\n",
      "   - MedInc: 2.0943\n",
      "   - HouseAge: 28.0000\n",
      "   - AveRooms: 5.5198\n",
      "   - AveBedrms: 1.0209\n",
      "   - Population: 6912.0000\n",
      "   - AveOccup: 3.8020\n",
      "   - Latitude: 39.1200\n",
      "   - Longitude: -121.3900\n",
      "   - Actual Price (Target): 1.0830\n",
      "\n"
     ]
    },
    {
     "name": "stderr",
     "output_type": "stream",
     "text": [
      "2025-03-16 18:08:32,058 - INFO - Sent Message ID: 90, Timestamp: 2025-03-16 18:08:32, Features: [3.5673, 11.0, 5.932584269662922, 1.1348314606741574, 1257.0, 2.824719101123596, 39.29, -121.32], Actual Price: 1.1200\n"
     ]
    },
    {
     "name": "stdout",
     "output_type": "stream",
     "text": [
      "Sent Message 90:\n",
      "   - MedInc: 3.5673\n",
      "   - HouseAge: 11.0000\n",
      "   - AveRooms: 5.9326\n",
      "   - AveBedrms: 1.1348\n",
      "   - Population: 1257.0000\n",
      "   - AveOccup: 2.8247\n",
      "   - Latitude: 39.2900\n",
      "   - Longitude: -121.3200\n",
      "   - Actual Price (Target): 1.1200\n",
      "\n"
     ]
    },
    {
     "name": "stderr",
     "output_type": "stream",
     "text": [
      "2025-03-16 18:08:33,063 - INFO - Sent Message ID: 91, Timestamp: 2025-03-16 18:08:33, Features: [3.5179, 15.0, 6.145833333333333, 1.1412037037037035, 1200.0, 2.7777777777777777, 39.33, -121.4], Actual Price: 1.0720\n"
     ]
    },
    {
     "name": "stdout",
     "output_type": "stream",
     "text": [
      "Sent Message 91:\n",
      "   - MedInc: 3.5179\n",
      "   - HouseAge: 15.0000\n",
      "   - AveRooms: 6.1458\n",
      "   - AveBedrms: 1.1412\n",
      "   - Population: 1200.0000\n",
      "   - AveOccup: 2.7778\n",
      "   - Latitude: 39.3300\n",
      "   - Longitude: -121.4000\n",
      "   - Actual Price (Target): 1.0720\n",
      "\n"
     ]
    },
    {
     "name": "stderr",
     "output_type": "stream",
     "text": [
      "2025-03-16 18:08:34,069 - INFO - Sent Message ID: 92, Timestamp: 2025-03-16 18:08:34, Features: [3.125, 15.0, 6.023376623376623, 1.0805194805194804, 1047.0, 2.7194805194805194, 39.26, -121.45], Actual Price: 1.1560\n"
     ]
    },
    {
     "name": "stdout",
     "output_type": "stream",
     "text": [
      "Sent Message 92:\n",
      "   - MedInc: 3.1250\n",
      "   - HouseAge: 15.0000\n",
      "   - AveRooms: 6.0234\n",
      "   - AveBedrms: 1.0805\n",
      "   - Population: 1047.0000\n",
      "   - AveOccup: 2.7195\n",
      "   - Latitude: 39.2600\n",
      "   - Longitude: -121.4500\n",
      "   - Actual Price (Target): 1.1560\n",
      "\n"
     ]
    },
    {
     "name": "stderr",
     "output_type": "stream",
     "text": [
      "2025-03-16 18:08:35,074 - INFO - Sent Message ID: 93, Timestamp: 2025-03-16 18:08:35, Features: [2.5495, 27.0, 5.445026178010472, 1.0785340314136125, 1082.0, 2.832460732984293, 39.19, -121.53], Actual Price: 0.9830\n"
     ]
    },
    {
     "name": "stdout",
     "output_type": "stream",
     "text": [
      "Sent Message 93:\n",
      "   - MedInc: 2.5495\n",
      "   - HouseAge: 27.0000\n",
      "   - AveRooms: 5.4450\n",
      "   - AveBedrms: 1.0785\n",
      "   - Population: 1082.0000\n",
      "   - AveOccup: 2.8325\n",
      "   - Latitude: 39.1900\n",
      "   - Longitude: -121.5300\n",
      "   - Actual Price (Target): 0.9830\n",
      "\n"
     ]
    },
    {
     "name": "stderr",
     "output_type": "stream",
     "text": [
      "2025-03-16 18:08:36,077 - INFO - Sent Message ID: 94, Timestamp: 2025-03-16 18:08:36, Features: [3.7125, 28.0, 6.77906976744186, 1.1482558139534884, 1041.0, 3.0261627906976742, 39.27, -121.56], Actual Price: 1.1680\n"
     ]
    },
    {
     "name": "stdout",
     "output_type": "stream",
     "text": [
      "Sent Message 94:\n",
      "   - MedInc: 3.7125\n",
      "   - HouseAge: 28.0000\n",
      "   - AveRooms: 6.7791\n",
      "   - AveBedrms: 1.1483\n",
      "   - Population: 1041.0000\n",
      "   - AveOccup: 3.0262\n",
      "   - Latitude: 39.2700\n",
      "   - Longitude: -121.5600\n",
      "   - Actual Price (Target): 1.1680\n",
      "\n"
     ]
    },
    {
     "name": "stderr",
     "output_type": "stream",
     "text": [
      "2025-03-16 18:08:37,081 - INFO - Sent Message ID: 95, Timestamp: 2025-03-16 18:08:37, Features: [1.5603, 25.0, 5.045454545454546, 1.1333333333333333, 845.0, 2.560606060606061, 39.48, -121.09], Actual Price: 0.7810\n"
     ]
    },
    {
     "name": "stdout",
     "output_type": "stream",
     "text": [
      "Sent Message 95:\n",
      "   - MedInc: 1.5603\n",
      "   - HouseAge: 25.0000\n",
      "   - AveRooms: 5.0455\n",
      "   - AveBedrms: 1.1333\n",
      "   - Population: 845.0000\n",
      "   - AveOccup: 2.5606\n",
      "   - Latitude: 39.4800\n",
      "   - Longitude: -121.0900\n",
      "   - Actual Price (Target): 0.7810\n",
      "\n"
     ]
    },
    {
     "name": "stderr",
     "output_type": "stream",
     "text": [
      "2025-03-16 18:08:38,086 - INFO - Sent Message ID: 96, Timestamp: 2025-03-16 18:08:38, Features: [2.5568, 18.0, 6.114035087719298, 1.3157894736842106, 356.0, 3.12280701754386, 39.49, -121.21], Actual Price: 0.7710\n"
     ]
    },
    {
     "name": "stdout",
     "output_type": "stream",
     "text": [
      "Sent Message 96:\n",
      "   - MedInc: 2.5568\n",
      "   - HouseAge: 18.0000\n",
      "   - AveRooms: 6.1140\n",
      "   - AveBedrms: 1.3158\n",
      "   - Population: 356.0000\n",
      "   - AveOccup: 3.1228\n",
      "   - Latitude: 39.4900\n",
      "   - Longitude: -121.2100\n",
      "   - Actual Price (Target): 0.7710\n",
      "\n"
     ]
    },
    {
     "name": "stderr",
     "output_type": "stream",
     "text": [
      "2025-03-16 18:08:39,091 - INFO - Sent Message ID: 97, Timestamp: 2025-03-16 18:08:39, Features: [1.7, 17.0, 5.20554272517321, 1.120092378752887, 1007.0, 2.325635103926097, 39.43, -121.22], Actual Price: 0.9230\n"
     ]
    },
    {
     "name": "stdout",
     "output_type": "stream",
     "text": [
      "Sent Message 97:\n",
      "   - MedInc: 1.7000\n",
      "   - HouseAge: 17.0000\n",
      "   - AveRooms: 5.2055\n",
      "   - AveBedrms: 1.1201\n",
      "   - Population: 1007.0000\n",
      "   - AveOccup: 2.3256\n",
      "   - Latitude: 39.4300\n",
      "   - Longitude: -121.2200\n",
      "   - Actual Price (Target): 0.9230\n",
      "\n"
     ]
    },
    {
     "name": "stderr",
     "output_type": "stream",
     "text": [
      "2025-03-16 18:08:40,095 - INFO - Sent Message ID: 98, Timestamp: 2025-03-16 18:08:40, Features: [1.8672, 18.0, 5.329512893982808, 1.171919770773639, 741.0, 2.123209169054441, 39.43, -121.32], Actual Price: 0.8470\n"
     ]
    },
    {
     "name": "stdout",
     "output_type": "stream",
     "text": [
      "Sent Message 98:\n",
      "   - MedInc: 1.8672\n",
      "   - HouseAge: 18.0000\n",
      "   - AveRooms: 5.3295\n",
      "   - AveBedrms: 1.1719\n",
      "   - Population: 741.0000\n",
      "   - AveOccup: 2.1232\n",
      "   - Latitude: 39.4300\n",
      "   - Longitude: -121.3200\n",
      "   - Actual Price (Target): 0.8470\n",
      "\n"
     ]
    },
    {
     "name": "stderr",
     "output_type": "stream",
     "text": [
      "2025-03-16 18:08:41,100 - INFO - Sent Message ID: 99, Timestamp: 2025-03-16 18:08:41, Features: [2.3886, 16.0, 5.254716981132075, 1.1622641509433962, 1387.0, 2.616981132075472, 39.37, -121.24], Actual Price: 0.8940\n"
     ]
    },
    {
     "name": "stdout",
     "output_type": "stream",
     "text": [
      "Sent Message 99:\n",
      "   - MedInc: 2.3886\n",
      "   - HouseAge: 16.0000\n",
      "   - AveRooms: 5.2547\n",
      "   - AveBedrms: 1.1623\n",
      "   - Population: 1387.0000\n",
      "   - AveOccup: 2.6170\n",
      "   - Latitude: 39.3700\n",
      "   - Longitude: -121.2400\n",
      "   - Actual Price (Target): 0.8940\n",
      "\n"
     ]
    },
    {
     "name": "stderr",
     "output_type": "stream",
     "text": [
      "2025-03-16 18:08:42,104 - INFO - <BrokerConnection client_id=kafka-python-producer-12, node_id=0 host=hitloop:9092 <connected> [IPv4 ('127.0.1.1', 9092)]>: Closing connection. \n",
      "2025-03-16 18:08:42,107 - INFO - \n",
      "Data Streaming Completed: 100 messages sent to Kafka!\n",
      "2025-03-16 18:08:42,108 - INFO - All logs are saved in: producer_logs.log\n"
     ]
    },
    {
     "name": "stdout",
     "output_type": "stream",
     "text": [
      "\n",
      "Data Streaming Completed: 100 messages sent to Kafka!\n",
      "All logs are saved in: producer_logs.log\n"
     ]
    }
   ],
   "source": [
    "import pandas as pd\n",
    "import json\n",
    "import time\n",
    "import logging\n",
    "from kafka import KafkaProducer\n",
    "\n",
    "# Define log file name\n",
    "log_file = \"producer_logs.log\"\n",
    "\n",
    "# Setup Logging: Remove existing handlers and reconfigure\n",
    "logging.getLogger().handlers.clear()\n",
    "logging.basicConfig(\n",
    "    filename=log_file,\n",
    "    level=logging.INFO,\n",
    "    format=\"%(asctime)s - %(levelname)s - %(message)s\",\n",
    "    filemode=\"a\"  # Use \"w\" to overwrite or \"a\" to append logs\n",
    ")\n",
    "\n",
    "# Create a console handler to also print logs to the console\n",
    "console_handler = logging.StreamHandler()\n",
    "console_handler.setLevel(logging.INFO)\n",
    "console_formatter = logging.Formatter(\"%(asctime)s - %(levelname)s - %(message)s\")\n",
    "console_handler.setFormatter(console_formatter)\n",
    "\n",
    "# Add the console handler to the logger\n",
    "logger = logging.getLogger()\n",
    "logger.addHandler(console_handler)\n",
    "\n",
    "# Loading the dataset\n",
    "csv_file = \"california_housing.csv\"\n",
    "logging.info(f\"Loading data from {csv_file}...\")\n",
    "\n",
    "df = pd.read_csv(csv_file)\n",
    "\n",
    "logging.info(\"Data loaded successfully!\")\n",
    "\n",
    "# Read last 100 rows of the dataset as test set\n",
    "logging.info(\"Reading last 100 rows of the dataset as test set...\")\n",
    "df = df.iloc[-100:].reset_index(drop=True)\n",
    "\n",
    "# Define feature and target columns\n",
    "feature_columns = df.columns[:-1]  # All columns except the last one\n",
    "target_column = df.columns[-1]  # The last column is the target\n",
    "\n",
    "# Kafka Producer Setup\n",
    "producer = KafkaProducer(\n",
    "    bootstrap_servers=\"localhost:9092\",\n",
    "    value_serializer=lambda v: json.dumps(v).encode(\"utf-8\")\n",
    ")\n",
    "\n",
    "logging.info(\"\\nStarting Data Streaming to Kafka...\\n\")\n",
    "\n",
    "# Track total messages sent\n",
    "total_messages_sent = 0\n",
    "\n",
    "# Send data row by row\n",
    "for i, row in df.iterrows():\n",
    "    message = {\n",
    "        \"id\": i,\n",
    "        \"timestamp\": time.strftime('%Y-%m-%d %H:%M:%S'),\n",
    "        \"features\": row[feature_columns].tolist(),\n",
    "        \"actual_price\": row[target_column]\n",
    "    }\n",
    "\n",
    "    # Send message to Kafka topic\n",
    "    producer.send(\"input-data\", value=message)\n",
    "    \n",
    "    # Log the message\n",
    "    log_message = f\"Sent Message ID: {i}, Timestamp: {message['timestamp']}, Features: {row[feature_columns].tolist()}, Actual Price: {row[target_column]:.4f}\"\n",
    "    logging.info(log_message)\n",
    "    \n",
    "    # Print message details\n",
    "    print(f\"Sent Message {i}:\")\n",
    "    for feature_name, feature_value in zip(feature_columns, row[feature_columns]):\n",
    "        print(f\"   - {feature_name}: {feature_value:.4f}\")\n",
    "    print(f\"   - Actual Price (Target): {row[target_column]:.4f}\\n\")\n",
    "\n",
    "    total_messages_sent += 1  # Count messages sent\n",
    "    time.sleep(1)  # Simulate real-time streaming\n",
    "\n",
    "# Ensure all messages are sent before closing\n",
    "producer.flush()\n",
    "producer.close()\n",
    "\n",
    "# Final summary message\n",
    "summary_message = f\"\\nData Streaming Completed: {total_messages_sent} messages sent to Kafka!\"\n",
    "logging.info(summary_message)\n",
    "print(summary_message)\n",
    "\n",
    "# Confirmation message about log file\n",
    "log_saved_message = f\"All logs are saved in: {log_file}\"\n",
    "logging.info(log_saved_message)\n",
    "print(log_saved_message)\n"
   ]
  },
  {
   "cell_type": "code",
   "execution_count": null,
   "metadata": {},
   "outputs": [],
   "source": []
  }
 ],
 "metadata": {
  "kernelspec": {
   "display_name": "base",
   "language": "python",
   "name": "python3"
  },
  "language_info": {
   "codemirror_mode": {
    "name": "ipython",
    "version": 3
   },
   "file_extension": ".py",
   "mimetype": "text/x-python",
   "name": "python",
   "nbconvert_exporter": "python",
   "pygments_lexer": "ipython3",
   "version": "3.11.11"
  }
 },
 "nbformat": 4,
 "nbformat_minor": 2
}
